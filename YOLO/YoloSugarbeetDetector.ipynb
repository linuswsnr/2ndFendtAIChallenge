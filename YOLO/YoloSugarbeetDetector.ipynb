{
 "cells": [
  {
   "cell_type": "markdown",
   "metadata": {},
   "source": [
    "# Detecton of sugarbeet plants with YOLO11n\n",
    "\n",
    "### getting stated\n",
    "this notebook guides you in several stef to create and apply a detector for Sugarbeets in images. \n",
    "You will need the dataset which was created from Fendt GmbH.\n",
    "\n",
    "important steps in this Notebook\n",
    "- prepare the given dataset for YOLO\n",
    "- split the data and move it to seperate folders\n",
    "- train the model\n",
    "- apply the model "
   ]
  },
  {
   "cell_type": "markdown",
   "metadata": {},
   "source": [
    "### 1. Make txt-files from json-files\n",
    "\n",
    "Note: copy the sugarbeet dataset in workspace. Directory should be in the original form:\n",
    "\n",
    "```\n",
    "|datensatz_sugarbeet/\n",
    "|   ├── annotations/\n",
    "|   └── img/\n",
    "```\n",
    "\n",
    "skript creates folder convertedSugarbeetDataset and convertes json files to TXT files according to the requirements of YOLO"
   ]
  },
  {
   "cell_type": "code",
   "execution_count": 5,
   "metadata": {},
   "outputs": [
    {
     "name": "stdout",
     "output_type": "stream",
     "text": [
      "Konvertiert: sugarbeet_bbch12_000002.json -> sugarbeet_bbch12_000002.txt\n",
      "Konvertiert: sugarbeet_bbch12_000003.json -> sugarbeet_bbch12_000003.txt\n",
      "Konvertiert: sugarbeet_bbch12_000004.json -> sugarbeet_bbch12_000004.txt\n",
      "Konvertiert: sugarbeet_bbch12_000005.json -> sugarbeet_bbch12_000005.txt\n",
      "Konvertiert: sugarbeet_bbch12_000006.json -> sugarbeet_bbch12_000006.txt\n",
      "Konvertiert: sugarbeet_bbch12_000007.json -> sugarbeet_bbch12_000007.txt\n",
      "Konvertiert: sugarbeet_bbch12_000008.json -> sugarbeet_bbch12_000008.txt\n",
      "Konvertiert: sugarbeet_bbch12_000009.json -> sugarbeet_bbch12_000009.txt\n",
      "Konvertiert: sugarbeet_bbch12_000010.json -> sugarbeet_bbch12_000010.txt\n",
      "Konvertiert: sugarbeet_bbch12_000011.json -> sugarbeet_bbch12_000011.txt\n",
      "Konvertiert: sugarbeet_bbch12_000013.json -> sugarbeet_bbch12_000013.txt\n",
      "Konvertiert: sugarbeet_bbch12_000014.json -> sugarbeet_bbch12_000014.txt\n",
      "Konvertiert: sugarbeet_bbch12_000015.json -> sugarbeet_bbch12_000015.txt\n",
      "Konvertiert: sugarbeet_bbch12_000016.json -> sugarbeet_bbch12_000016.txt\n",
      "Konvertiert: sugarbeet_bbch12_000017.json -> sugarbeet_bbch12_000017.txt\n",
      "Konvertiert: sugarbeet_bbch12_000018.json -> sugarbeet_bbch12_000018.txt\n",
      "Konvertiert: sugarbeet_bbch12_000019.json -> sugarbeet_bbch12_000019.txt\n",
      "Konvertiert: sugarbeet_bbch12_000020.json -> sugarbeet_bbch12_000020.txt\n",
      "Konvertiert: sugarbeet_bbch12_000022.json -> sugarbeet_bbch12_000022.txt\n",
      "Konvertiert: sugarbeet_bbch12_000023.json -> sugarbeet_bbch12_000023.txt\n",
      "Konvertiert: sugarbeet_bbch12_000024.json -> sugarbeet_bbch12_000024.txt\n",
      "Konvertiert: sugarbeet_bbch12_000025.json -> sugarbeet_bbch12_000025.txt\n",
      "Konvertiert: sugarbeet_bbch12_000026.json -> sugarbeet_bbch12_000026.txt\n",
      "Konvertiert: sugarbeet_bbch12_000027.json -> sugarbeet_bbch12_000027.txt\n",
      "Konvertiert: sugarbeet_bbch12_000028.json -> sugarbeet_bbch12_000028.txt\n",
      "Konvertiert: sugarbeet_bbch12_000030.json -> sugarbeet_bbch12_000030.txt\n",
      "Konvertiert: sugarbeet_bbch12_000031.json -> sugarbeet_bbch12_000031.txt\n",
      "Konvertiert: sugarbeet_bbch12_000032.json -> sugarbeet_bbch12_000032.txt\n",
      "Konvertiert: sugarbeet_bbch12_000033.json -> sugarbeet_bbch12_000033.txt\n",
      "Konvertiert: sugarbeet_bbch12_000034.json -> sugarbeet_bbch12_000034.txt\n",
      "Konvertiert: sugarbeet_bbch12_000035.json -> sugarbeet_bbch12_000035.txt\n",
      "Konvertiert: sugarbeet_bbch12_000036.json -> sugarbeet_bbch12_000036.txt\n",
      "Konvertiert: sugarbeet_bbch12_000037.json -> sugarbeet_bbch12_000037.txt\n",
      "Konvertiert: sugarbeet_bbch12_000038.json -> sugarbeet_bbch12_000038.txt\n",
      "Konvertiert: sugarbeet_bbch12_000039.json -> sugarbeet_bbch12_000039.txt\n",
      "Konvertiert: sugarbeet_bbch12_000040.json -> sugarbeet_bbch12_000040.txt\n",
      "Konvertiert: sugarbeet_bbch12_000041.json -> sugarbeet_bbch12_000041.txt\n",
      "Konvertiert: sugarbeet_bbch12_000042.json -> sugarbeet_bbch12_000042.txt\n",
      "Konvertiert: sugarbeet_bbch12_000043.json -> sugarbeet_bbch12_000043.txt\n",
      "Konvertiert: sugarbeet_bbch12_000044.json -> sugarbeet_bbch12_000044.txt\n",
      "Konvertiert: sugarbeet_bbch12_000045.json -> sugarbeet_bbch12_000045.txt\n",
      "Konvertiert: sugarbeet_bbch12_000046.json -> sugarbeet_bbch12_000046.txt\n",
      "Konvertiert: sugarbeet_bbch12_000047.json -> sugarbeet_bbch12_000047.txt\n",
      "Konvertiert: sugarbeet_bbch12_000048.json -> sugarbeet_bbch12_000048.txt\n",
      "Konvertiert: sugarbeet_bbch12_000049.json -> sugarbeet_bbch12_000049.txt\n",
      "Konvertiert: sugarbeet_bbch12_000050.json -> sugarbeet_bbch12_000050.txt\n",
      "Konvertiert: sugarbeet_bbch12_000051.json -> sugarbeet_bbch12_000051.txt\n",
      "Konvertiert: sugarbeet_bbch12_000052.json -> sugarbeet_bbch12_000052.txt\n",
      "Konvertiert: sugarbeet_bbch12_000053.json -> sugarbeet_bbch12_000053.txt\n",
      "Konvertiert: sugarbeet_bbch12_000054.json -> sugarbeet_bbch12_000054.txt\n",
      "Konvertiert: sugarbeet_bbch12_000055.json -> sugarbeet_bbch12_000055.txt\n",
      "Konvertiert: sugarbeet_bbch12_000057.json -> sugarbeet_bbch12_000057.txt\n",
      "Konvertiert: sugarbeet_bbch12_000058.json -> sugarbeet_bbch12_000058.txt\n",
      "Konvertiert: sugarbeet_bbch12_000059.json -> sugarbeet_bbch12_000059.txt\n",
      "Konvertiert: sugarbeet_bbch12_000060.json -> sugarbeet_bbch12_000060.txt\n",
      "Konvertiert: sugarbeet_bbch12_000062.json -> sugarbeet_bbch12_000062.txt\n",
      "Konvertiert: sugarbeet_bbch12_000063.json -> sugarbeet_bbch12_000063.txt\n",
      "Konvertiert: sugarbeet_bbch12_000064.json -> sugarbeet_bbch12_000064.txt\n",
      "Konvertiert: sugarbeet_bbch12_000065.json -> sugarbeet_bbch12_000065.txt\n",
      "Konvertiert: sugarbeet_bbch12_000066.json -> sugarbeet_bbch12_000066.txt\n",
      "Konvertiert: sugarbeet_bbch12_000067.json -> sugarbeet_bbch12_000067.txt\n",
      "Konvertiert: sugarbeet_bbch12_000068.json -> sugarbeet_bbch12_000068.txt\n",
      "Konvertiert: sugarbeet_bbch12_000069.json -> sugarbeet_bbch12_000069.txt\n",
      "Konvertiert: sugarbeet_bbch12_000070.json -> sugarbeet_bbch12_000070.txt\n",
      "Konvertiert: sugarbeet_bbch12_000071.json -> sugarbeet_bbch12_000071.txt\n",
      "Konvertiert: sugarbeet_bbch12_000072.json -> sugarbeet_bbch12_000072.txt\n",
      "Konvertiert: sugarbeet_bbch12_000073.json -> sugarbeet_bbch12_000073.txt\n",
      "Konvertiert: sugarbeet_bbch12_000074.json -> sugarbeet_bbch12_000074.txt\n",
      "Konvertiert: sugarbeet_bbch12_000075.json -> sugarbeet_bbch12_000075.txt\n",
      "Konvertiert: sugarbeet_bbch12_000076.json -> sugarbeet_bbch12_000076.txt\n",
      "Konvertiert: sugarbeet_bbch12_000077.json -> sugarbeet_bbch12_000077.txt\n",
      "Konvertiert: sugarbeet_bbch12_000078.json -> sugarbeet_bbch12_000078.txt\n",
      "Konvertiert: sugarbeet_bbch12_000079.json -> sugarbeet_bbch12_000079.txt\n",
      "Konvertiert: sugarbeet_bbch12_000080.json -> sugarbeet_bbch12_000080.txt\n",
      "Konvertiert: sugarbeet_bbch12_000081.json -> sugarbeet_bbch12_000081.txt\n",
      "Konvertiert: sugarbeet_bbch12_000083.json -> sugarbeet_bbch12_000083.txt\n",
      "Konvertiert: sugarbeet_bbch12_000084.json -> sugarbeet_bbch12_000084.txt\n",
      "Konvertiert: sugarbeet_bbch12_000085.json -> sugarbeet_bbch12_000085.txt\n",
      "Konvertiert: sugarbeet_bbch12_000086.json -> sugarbeet_bbch12_000086.txt\n",
      "Konvertiert: sugarbeet_bbch12_000087.json -> sugarbeet_bbch12_000087.txt\n",
      "Konvertiert: sugarbeet_bbch12_000088.json -> sugarbeet_bbch12_000088.txt\n",
      "Konvertiert: sugarbeet_bbch12_000089.json -> sugarbeet_bbch12_000089.txt\n",
      "Konvertiert: sugarbeet_bbch12_000091.json -> sugarbeet_bbch12_000091.txt\n",
      "Konvertiert: sugarbeet_bbch12_000092.json -> sugarbeet_bbch12_000092.txt\n",
      "Konvertiert: sugarbeet_bbch12_000093.json -> sugarbeet_bbch12_000093.txt\n",
      "Konvertiert: sugarbeet_bbch12_000094.json -> sugarbeet_bbch12_000094.txt\n",
      "Konvertiert: sugarbeet_bbch12_000095.json -> sugarbeet_bbch12_000095.txt\n",
      "Konvertiert: sugarbeet_bbch12_000096.json -> sugarbeet_bbch12_000096.txt\n",
      "Konvertiert: sugarbeet_bbch12_000097.json -> sugarbeet_bbch12_000097.txt\n",
      "Konvertiert: sugarbeet_bbch12_000098.json -> sugarbeet_bbch12_000098.txt\n",
      "Konvertiert: sugarbeet_bbch12_000099.json -> sugarbeet_bbch12_000099.txt\n",
      "Konvertiert: sugarbeet_bbch12_000100.json -> sugarbeet_bbch12_000100.txt\n",
      "Konvertiert: sugarbeet_bbch12_000101.json -> sugarbeet_bbch12_000101.txt\n",
      "Konvertiert: sugarbeet_bbch12_000102.json -> sugarbeet_bbch12_000102.txt\n",
      "Konvertiert: sugarbeet_bbch12_000103.json -> sugarbeet_bbch12_000103.txt\n",
      "Konvertiert: sugarbeet_bbch12_000104.json -> sugarbeet_bbch12_000104.txt\n",
      "Konvertiert: sugarbeet_bbch12_000105.json -> sugarbeet_bbch12_000105.txt\n",
      "Konvertiert: sugarbeet_bbch12_000106.json -> sugarbeet_bbch12_000106.txt\n",
      "Konvertiert: sugarbeet_bbch12_000107.json -> sugarbeet_bbch12_000107.txt\n",
      "Konvertiert: sugarbeet_bbch12_000108.json -> sugarbeet_bbch12_000108.txt\n",
      "Konvertiert: sugarbeet_bbch12_000109.json -> sugarbeet_bbch12_000109.txt\n",
      "Konvertiert: sugarbeet_bbch12_000110.json -> sugarbeet_bbch12_000110.txt\n",
      "Konvertiert: sugarbeet_bbch12_000111.json -> sugarbeet_bbch12_000111.txt\n",
      "Konvertiert: sugarbeet_bbch12_000112.json -> sugarbeet_bbch12_000112.txt\n",
      "Konvertiert: sugarbeet_bbch12_000113.json -> sugarbeet_bbch12_000113.txt\n",
      "Konvertiert: sugarbeet_bbch12_000114.json -> sugarbeet_bbch12_000114.txt\n",
      "Konvertiert: sugarbeet_bbch12_000115.json -> sugarbeet_bbch12_000115.txt\n",
      "Konvertiert: sugarbeet_bbch12_000117.json -> sugarbeet_bbch12_000117.txt\n",
      "Konvertiert: sugarbeet_bbch12_000118.json -> sugarbeet_bbch12_000118.txt\n",
      "Konvertiert: sugarbeet_bbch12_000119.json -> sugarbeet_bbch12_000119.txt\n",
      "Konvertiert: sugarbeet_bbch12_000120.json -> sugarbeet_bbch12_000120.txt\n",
      "Konvertiert: sugarbeet_bbch12_000121.json -> sugarbeet_bbch12_000121.txt\n",
      "Konvertiert: sugarbeet_bbch12_000122.json -> sugarbeet_bbch12_000122.txt\n",
      "Konvertiert: sugarbeet_bbch12_000123.json -> sugarbeet_bbch12_000123.txt\n",
      "Konvertiert: sugarbeet_bbch12_000124.json -> sugarbeet_bbch12_000124.txt\n",
      "Konvertiert: sugarbeet_bbch12_000125.json -> sugarbeet_bbch12_000125.txt\n",
      "Konvertiert: sugarbeet_bbch12_000126.json -> sugarbeet_bbch12_000126.txt\n",
      "Konvertiert: sugarbeet_bbch12_000127.json -> sugarbeet_bbch12_000127.txt\n",
      "Konvertiert: sugarbeet_bbch12_000128.json -> sugarbeet_bbch12_000128.txt\n",
      "Konvertiert: sugarbeet_bbch12_000129.json -> sugarbeet_bbch12_000129.txt\n",
      "Konvertiert: sugarbeet_bbch12_000130.json -> sugarbeet_bbch12_000130.txt\n",
      "Konvertiert: sugarbeet_bbch12_000131.json -> sugarbeet_bbch12_000131.txt\n",
      "Konvertiert: sugarbeet_bbch12_000132.json -> sugarbeet_bbch12_000132.txt\n",
      "Konvertiert: sugarbeet_bbch12_000133.json -> sugarbeet_bbch12_000133.txt\n",
      "Konvertiert: sugarbeet_bbch12_000134.json -> sugarbeet_bbch12_000134.txt\n",
      "Konvertiert: sugarbeet_bbch12_000135.json -> sugarbeet_bbch12_000135.txt\n",
      "Konvertiert: sugarbeet_bbch12_000136.json -> sugarbeet_bbch12_000136.txt\n",
      "Konvertiert: sugarbeet_bbch12_000137.json -> sugarbeet_bbch12_000137.txt\n",
      "Konvertiert: sugarbeet_bbch12_000139.json -> sugarbeet_bbch12_000139.txt\n",
      "Konvertiert: sugarbeet_bbch12_000140.json -> sugarbeet_bbch12_000140.txt\n",
      "Konvertiert: sugarbeet_bbch12_000141.json -> sugarbeet_bbch12_000141.txt\n",
      "Konvertiert: sugarbeet_bbch12_000142.json -> sugarbeet_bbch12_000142.txt\n",
      "Konvertiert: sugarbeet_bbch12_000143.json -> sugarbeet_bbch12_000143.txt\n",
      "Konvertiert: sugarbeet_bbch12_000145.json -> sugarbeet_bbch12_000145.txt\n",
      "Konvertiert: sugarbeet_bbch12_000146.json -> sugarbeet_bbch12_000146.txt\n",
      "Konvertiert: sugarbeet_bbch12_000147.json -> sugarbeet_bbch12_000147.txt\n",
      "Konvertiert: sugarbeet_bbch12_000148.json -> sugarbeet_bbch12_000148.txt\n",
      "Konvertiert: sugarbeet_bbch12_000149.json -> sugarbeet_bbch12_000149.txt\n",
      "Konvertiert: sugarbeet_bbch12_000150.json -> sugarbeet_bbch12_000150.txt\n",
      "Konvertiert: sugarbeet_bbch16_000151.json -> sugarbeet_bbch16_000151.txt\n",
      "Konvertiert: sugarbeet_bbch16_000153.json -> sugarbeet_bbch16_000153.txt\n",
      "Konvertiert: sugarbeet_bbch16_000154.json -> sugarbeet_bbch16_000154.txt\n",
      "Konvertiert: sugarbeet_bbch16_000155.json -> sugarbeet_bbch16_000155.txt\n",
      "Konvertiert: sugarbeet_bbch16_000156.json -> sugarbeet_bbch16_000156.txt\n",
      "Konvertiert: sugarbeet_bbch16_000157.json -> sugarbeet_bbch16_000157.txt\n",
      "Konvertiert: sugarbeet_bbch16_000158.json -> sugarbeet_bbch16_000158.txt\n",
      "Konvertiert: sugarbeet_bbch16_000159.json -> sugarbeet_bbch16_000159.txt\n",
      "Konvertiert: sugarbeet_bbch16_000160.json -> sugarbeet_bbch16_000160.txt\n",
      "Konvertiert: sugarbeet_bbch16_000161.json -> sugarbeet_bbch16_000161.txt\n",
      "Konvertiert: sugarbeet_bbch16_000163.json -> sugarbeet_bbch16_000163.txt\n",
      "Konvertiert: sugarbeet_bbch16_000164.json -> sugarbeet_bbch16_000164.txt\n",
      "Konvertiert: sugarbeet_bbch16_000165.json -> sugarbeet_bbch16_000165.txt\n",
      "Konvertiert: sugarbeet_bbch16_000166.json -> sugarbeet_bbch16_000166.txt\n",
      "Konvertiert: sugarbeet_bbch16_000167.json -> sugarbeet_bbch16_000167.txt\n",
      "Konvertiert: sugarbeet_bbch16_000168.json -> sugarbeet_bbch16_000168.txt\n",
      "Konvertiert: sugarbeet_bbch16_000169.json -> sugarbeet_bbch16_000169.txt\n",
      "Konvertiert: sugarbeet_bbch16_000170.json -> sugarbeet_bbch16_000170.txt\n",
      "Konvertiert: sugarbeet_bbch16_000171.json -> sugarbeet_bbch16_000171.txt\n",
      "Konvertiert: sugarbeet_bbch16_000172.json -> sugarbeet_bbch16_000172.txt\n",
      "Konvertiert: sugarbeet_bbch16_000173.json -> sugarbeet_bbch16_000173.txt\n",
      "Konvertiert: sugarbeet_bbch16_000174.json -> sugarbeet_bbch16_000174.txt\n",
      "Konvertiert: sugarbeet_bbch16_000175.json -> sugarbeet_bbch16_000175.txt\n",
      "Konvertiert: sugarbeet_bbch16_000176.json -> sugarbeet_bbch16_000176.txt\n",
      "Konvertiert: sugarbeet_bbch16_000177.json -> sugarbeet_bbch16_000177.txt\n",
      "Konvertiert: sugarbeet_bbch16_000178.json -> sugarbeet_bbch16_000178.txt\n",
      "Konvertiert: sugarbeet_bbch16_000179.json -> sugarbeet_bbch16_000179.txt\n",
      "Konvertiert: sugarbeet_bbch16_000180.json -> sugarbeet_bbch16_000180.txt\n",
      "Konvertiert: sugarbeet_bbch16_000181.json -> sugarbeet_bbch16_000181.txt\n",
      "Konvertiert: sugarbeet_bbch16_000182.json -> sugarbeet_bbch16_000182.txt\n",
      "Konvertiert: sugarbeet_bbch16_000183.json -> sugarbeet_bbch16_000183.txt\n",
      "Konvertiert: sugarbeet_bbch16_000184.json -> sugarbeet_bbch16_000184.txt\n",
      "Konvertiert: sugarbeet_bbch16_000185.json -> sugarbeet_bbch16_000185.txt\n",
      "Konvertiert: sugarbeet_bbch16_000186.json -> sugarbeet_bbch16_000186.txt\n",
      "Konvertiert: sugarbeet_bbch16_000187.json -> sugarbeet_bbch16_000187.txt\n",
      "Konvertiert: sugarbeet_bbch16_000189.json -> sugarbeet_bbch16_000189.txt\n",
      "Konvertiert: sugarbeet_bbch16_000190.json -> sugarbeet_bbch16_000190.txt\n",
      "Konvertiert: sugarbeet_bbch16_000192.json -> sugarbeet_bbch16_000192.txt\n",
      "Konvertiert: sugarbeet_bbch16_000193.json -> sugarbeet_bbch16_000193.txt\n",
      "Konvertiert: sugarbeet_bbch16_000195.json -> sugarbeet_bbch16_000195.txt\n",
      "Konvertiert: sugarbeet_bbch16_000196.json -> sugarbeet_bbch16_000196.txt\n",
      "Konvertiert: sugarbeet_bbch16_000198.json -> sugarbeet_bbch16_000198.txt\n",
      "Konvertiert: sugarbeet_bbch16_000199.json -> sugarbeet_bbch16_000199.txt\n",
      "Konvertiert: sugarbeet_bbch16_000200.json -> sugarbeet_bbch16_000200.txt\n",
      "Konvertiert: sugarbeet_bbch16_000201.json -> sugarbeet_bbch16_000201.txt\n",
      "Konvertiert: sugarbeet_bbch16_000202.json -> sugarbeet_bbch16_000202.txt\n",
      "Konvertiert: sugarbeet_bbch16_000203.json -> sugarbeet_bbch16_000203.txt\n",
      "Konvertiert: sugarbeet_bbch16_000206.json -> sugarbeet_bbch16_000206.txt\n",
      "Konvertiert: sugarbeet_bbch16_000207.json -> sugarbeet_bbch16_000207.txt\n",
      "Konvertiert: sugarbeet_bbch16_000209.json -> sugarbeet_bbch16_000209.txt\n",
      "Konvertiert: sugarbeet_bbch16_000210.json -> sugarbeet_bbch16_000210.txt\n",
      "Konvertiert: sugarbeet_bbch16_000211.json -> sugarbeet_bbch16_000211.txt\n",
      "Konvertiert: sugarbeet_bbch16_000212.json -> sugarbeet_bbch16_000212.txt\n",
      "Konvertiert: sugarbeet_bbch16_000213.json -> sugarbeet_bbch16_000213.txt\n",
      "Konvertiert: sugarbeet_bbch16_000214.json -> sugarbeet_bbch16_000214.txt\n",
      "Konvertiert: sugarbeet_bbch16_000215.json -> sugarbeet_bbch16_000215.txt\n",
      "Konvertiert: sugarbeet_bbch16_000216.json -> sugarbeet_bbch16_000216.txt\n",
      "Konvertiert: sugarbeet_bbch16_000217.json -> sugarbeet_bbch16_000217.txt\n",
      "Konvertiert: sugarbeet_bbch16_000218.json -> sugarbeet_bbch16_000218.txt\n",
      "Konvertiert: sugarbeet_bbch16_000222.json -> sugarbeet_bbch16_000222.txt\n",
      "Konvertiert: sugarbeet_bbch16_000225.json -> sugarbeet_bbch16_000225.txt\n",
      "Konvertiert: sugarbeet_bbch16_000226.json -> sugarbeet_bbch16_000226.txt\n",
      "Konvertiert: sugarbeet_bbch16_000227.json -> sugarbeet_bbch16_000227.txt\n",
      "Konvertiert: sugarbeet_bbch16_000228.json -> sugarbeet_bbch16_000228.txt\n",
      "Konvertiert: sugarbeet_bbch16_000229.json -> sugarbeet_bbch16_000229.txt\n",
      "Konvertiert: sugarbeet_bbch16_000231.json -> sugarbeet_bbch16_000231.txt\n",
      "Konvertiert: sugarbeet_bbch16_000232.json -> sugarbeet_bbch16_000232.txt\n",
      "Konvertiert: sugarbeet_bbch16_000233.json -> sugarbeet_bbch16_000233.txt\n",
      "Konvertiert: sugarbeet_bbch16_000234.json -> sugarbeet_bbch16_000234.txt\n",
      "Konvertiert: sugarbeet_bbch16_000235.json -> sugarbeet_bbch16_000235.txt\n",
      "Konvertiert: sugarbeet_bbch16_000236.json -> sugarbeet_bbch16_000236.txt\n",
      "Konvertiert: sugarbeet_bbch16_000237.json -> sugarbeet_bbch16_000237.txt\n",
      "Konvertiert: sugarbeet_bbch16_000238.json -> sugarbeet_bbch16_000238.txt\n",
      "Konvertiert: sugarbeet_bbch16_000239.json -> sugarbeet_bbch16_000239.txt\n",
      "Konvertiert: sugarbeet_bbch16_000240.json -> sugarbeet_bbch16_000240.txt\n",
      "Konvertiert: sugarbeet_bbch16_000241.json -> sugarbeet_bbch16_000241.txt\n",
      "Konvertiert: sugarbeet_bbch16_000242.json -> sugarbeet_bbch16_000242.txt\n",
      "Konvertiert: sugarbeet_bbch16_000243.json -> sugarbeet_bbch16_000243.txt\n",
      "Konvertiert: sugarbeet_bbch16_000244.json -> sugarbeet_bbch16_000244.txt\n",
      "Konvertiert: sugarbeet_bbch16_000245.json -> sugarbeet_bbch16_000245.txt\n",
      "Konvertiert: sugarbeet_bbch16_000246.json -> sugarbeet_bbch16_000246.txt\n",
      "Konvertiert: sugarbeet_bbch16_000247.json -> sugarbeet_bbch16_000247.txt\n",
      "Konvertiert: sugarbeet_bbch16_000248.json -> sugarbeet_bbch16_000248.txt\n",
      "Konvertiert: sugarbeet_bbch16_000249.json -> sugarbeet_bbch16_000249.txt\n",
      "Konvertiert: sugarbeet_bbch16_000250.json -> sugarbeet_bbch16_000250.txt\n",
      "Konvertiert: sugarbeet_bbch16_000251.json -> sugarbeet_bbch16_000251.txt\n",
      "Konvertiert: sugarbeet_bbch16_000252.json -> sugarbeet_bbch16_000252.txt\n",
      "Konvertiert: sugarbeet_bbch16_000253.json -> sugarbeet_bbch16_000253.txt\n",
      "Konvertiert: sugarbeet_bbch16_000254.json -> sugarbeet_bbch16_000254.txt\n",
      "Konvertiert: sugarbeet_bbch16_000255.json -> sugarbeet_bbch16_000255.txt\n",
      "Konvertiert: sugarbeet_bbch16_000256.json -> sugarbeet_bbch16_000256.txt\n",
      "Konvertiert: sugarbeet_bbch16_000257.json -> sugarbeet_bbch16_000257.txt\n",
      "Konvertiert: sugarbeet_bbch16_000258.json -> sugarbeet_bbch16_000258.txt\n",
      "Konvertiert: sugarbeet_bbch16_000259.json -> sugarbeet_bbch16_000259.txt\n",
      "Konvertiert: sugarbeet_bbch16_000260.json -> sugarbeet_bbch16_000260.txt\n",
      "Konvertiert: sugarbeet_bbch16_000261.json -> sugarbeet_bbch16_000261.txt\n",
      "Konvertiert: sugarbeet_bbch16_000262.json -> sugarbeet_bbch16_000262.txt\n",
      "Konvertiert: sugarbeet_bbch16_000263.json -> sugarbeet_bbch16_000263.txt\n",
      "Konvertiert: sugarbeet_bbch16_000265.json -> sugarbeet_bbch16_000265.txt\n",
      "Konvertiert: sugarbeet_bbch16_000266.json -> sugarbeet_bbch16_000266.txt\n",
      "Konvertiert: sugarbeet_bbch16_000267.json -> sugarbeet_bbch16_000267.txt\n",
      "Konvertiert: sugarbeet_bbch16_000268.json -> sugarbeet_bbch16_000268.txt\n",
      "Konvertiert: sugarbeet_bbch16_000269.json -> sugarbeet_bbch16_000269.txt\n",
      "Konvertiert: sugarbeet_bbch16_000270.json -> sugarbeet_bbch16_000270.txt\n",
      "Konvertiert: sugarbeet_bbch16_000271.json -> sugarbeet_bbch16_000271.txt\n",
      "Konvertiert: sugarbeet_bbch16_000272.json -> sugarbeet_bbch16_000272.txt\n",
      "Konvertiert: sugarbeet_bbch16_000273.json -> sugarbeet_bbch16_000273.txt\n",
      "Konvertiert: sugarbeet_bbch16_000274.json -> sugarbeet_bbch16_000274.txt\n",
      "Konvertiert: sugarbeet_bbch16_000275.json -> sugarbeet_bbch16_000275.txt\n",
      "Konvertiert: sugarbeet_bbch16_000276.json -> sugarbeet_bbch16_000276.txt\n",
      "Konvertiert: sugarbeet_bbch16_000277.json -> sugarbeet_bbch16_000277.txt\n",
      "Konvertiert: sugarbeet_bbch16_000278.json -> sugarbeet_bbch16_000278.txt\n",
      "Konvertiert: sugarbeet_bbch16_000279.json -> sugarbeet_bbch16_000279.txt\n",
      "Konvertiert: sugarbeet_bbch16_000280.json -> sugarbeet_bbch16_000280.txt\n",
      "Konvertiert: sugarbeet_bbch16_000281.json -> sugarbeet_bbch16_000281.txt\n",
      "Konvertiert: sugarbeet_bbch16_000282.json -> sugarbeet_bbch16_000282.txt\n",
      "Konvertiert: sugarbeet_bbch16_000283.json -> sugarbeet_bbch16_000283.txt\n",
      "Konvertiert: sugarbeet_bbch16_000284.json -> sugarbeet_bbch16_000284.txt\n",
      "Konvertiert: sugarbeet_bbch16_000285.json -> sugarbeet_bbch16_000285.txt\n",
      "Konvertiert: sugarbeet_bbch16_000286.json -> sugarbeet_bbch16_000286.txt\n",
      "Konvertiert: sugarbeet_bbch16_000287.json -> sugarbeet_bbch16_000287.txt\n",
      "Konvertiert: sugarbeet_bbch16_000288.json -> sugarbeet_bbch16_000288.txt\n",
      "Konvertiert: sugarbeet_bbch16_000289.json -> sugarbeet_bbch16_000289.txt\n",
      "Konvertiert: sugarbeet_bbch16_000290.json -> sugarbeet_bbch16_000290.txt\n",
      "Konvertiert: sugarbeet_bbch16_000291.json -> sugarbeet_bbch16_000291.txt\n",
      "Konvertiert: sugarbeet_bbch16_000292.json -> sugarbeet_bbch16_000292.txt\n",
      "Konvertiert: sugarbeet_bbch16_000293.json -> sugarbeet_bbch16_000293.txt\n",
      "Konvertiert: sugarbeet_bbch16_000294.json -> sugarbeet_bbch16_000294.txt\n",
      "Konvertiert: sugarbeet_bbch16_000295.json -> sugarbeet_bbch16_000295.txt\n",
      "Konvertiert: sugarbeet_bbch16_000296.json -> sugarbeet_bbch16_000296.txt\n",
      "Konvertiert: sugarbeet_bbch16_000297.json -> sugarbeet_bbch16_000297.txt\n",
      "Konvertiert: sugarbeet_bbch16_000298.json -> sugarbeet_bbch16_000298.txt\n",
      "Konvertiert: sugarbeet_bbch16_000299.json -> sugarbeet_bbch16_000299.txt\n",
      "Konvertiert: sugarbeet_bbch16_000300.json -> sugarbeet_bbch16_000300.txt\n"
     ]
    }
   ],
   "source": [
    "import os\n",
    "import json\n",
    "\n",
    "annotations_dir = \"C:/Users/Philip/Documents/Fendt_KI_Challenge/yolo_training/labels/train\"  # directory of annotation data stored in JSON-files \n",
    "output_dir = \"C:/Users/Philip/Documents/Fendt_KI_Challenge/yolo_training/labels/yolo_txt\"  # directory for YOLO-TXT-files\n",
    "\n",
    "# define classes \n",
    "CLASSES = {\n",
    "    \"sugarbeet\": 0,\n",
    "    #\"weed\": 1,\n",
    "    #\"rock\": 2,\n",
    "}\n",
    "\n",
    "# create output directory if doesnt exist\n",
    "os.makedirs(output_dir, exist_ok=True)\n",
    "\n",
    "\n",
    "def convert_to_yolo_format(img_width, img_height, bbox):\n",
    "    \"\"\"convert bounding box coordinates in YOLO format.\n",
    "    \n",
    "    inputparameters:    img_width           int                                        width of image\n",
    "                        img_height          int                                        height of image\n",
    "                        bbox                list: [[x_min, y_min],[x_max, y_max]]      absolute coordinates according to image width and height.\n",
    "                        \n",
    "    return:             x_center            int                                        relative x-coordinate of bounding box\n",
    "                        y_center            int                                        relative y-coordinate of bounding box\n",
    "                        width               int                                        with of bounding box\n",
    "                        height              int                                        height  of bounding box\"\"\"\n",
    "    \n",
    "    x_min, y_min = bbox[0]\n",
    "    x_max, y_max = bbox[1]\n",
    "\n",
    "    # calculate YOLO-coordinates (relativ to image size)\n",
    "    x_center = ((x_min + x_max) / 2) / img_width\n",
    "    y_center = ((y_min + y_max) / 2) / img_height\n",
    "    width = (x_max - x_min) / img_width\n",
    "    height = (y_max - y_min) / img_height\n",
    "\n",
    "    return x_center, y_center, width, height\n",
    "\n",
    "\n",
    "def process_json_file(json_file):\n",
    "    \"\"\"read JSON file and convert bounding box coordinates in YOLO format.\n",
    "\n",
    "    inputparameters:       json_file           string          path to json file\n",
    "    \n",
    "    returns:               yolo_lines          list            list of strings with content of classes and boundingboxes in YOLO-Format\"\"\"\n",
    "\n",
    "    with open(json_file, \"r\") as f:\n",
    "        data = json.load(f)\n",
    "\n",
    "    img_width = data[\"imgWidth\"]\n",
    "    img_height = data[\"imgHeight\"]\n",
    "    objects = data[\"objects\"]\n",
    "\n",
    "    yolo_lines = []\n",
    "    for obj in objects:\n",
    "        label = obj[\"label\"]\n",
    "        if label in CLASSES:\n",
    "            class_id = CLASSES[label]\n",
    "            bbox = obj[\"bbox\"]\n",
    "            yolo_bbox = convert_to_yolo_format(img_width, img_height, bbox)\n",
    "            yolo_line = f\"{class_id} {' '.join(map(str, yolo_bbox))}\"\n",
    "            yolo_lines.append(yolo_line)\n",
    "    \n",
    "    return yolo_lines\n",
    "\n",
    "\n",
    "def main():\n",
    "    '''iterate over all json files an create TXT Files with data for classes and bounding boxes according to the requirements of YOLO'''\n",
    "\n",
    "    for json_file in os.listdir(annotations_dir):\n",
    "        if json_file.endswith(\".json\"):\n",
    "            json_path = os.path.join(annotations_dir, json_file)\n",
    "            yolo_lines = process_json_file(json_path)\n",
    "\n",
    "            # write data in TXT files\n",
    "            txt_file = os.path.splitext(json_file)[0] + \".txt\"\n",
    "            txt_path = os.path.join(output_dir, txt_file)\n",
    "            with open(txt_path, \"w\") as f:\n",
    "                f.write(\"\\n\".join(yolo_lines))\n",
    "\n",
    "            print(f\"Konvertiert: {json_file} -> {txt_file}\")\n",
    "\n",
    "if __name__ == \"__main__\":\n",
    "    main()\n"
   ]
  },
  {
   "cell_type": "markdown",
   "metadata": {},
   "source": [
    "### "
   ]
  },
  {
   "cell_type": "markdown",
   "metadata": {},
   "source": [
    "### 2. Move data in seperate folders\n",
    "\n",
    "- script splits data in 80% train und 20% validation \n"
   ]
  },
  {
   "cell_type": "code",
   "execution_count": 6,
   "metadata": {},
   "outputs": [
    {
     "name": "stdout",
     "output_type": "stream",
     "text": [
      "splitting completed!\n",
      "train data: 218\n",
      "validation data: 55\n"
     ]
    }
   ],
   "source": [
    "import os\n",
    "import shutil\n",
    "import random\n",
    "\n",
    "# define directorys\n",
    "image_dir = \"C:/Users/Philip/Documents/Fendt_KI_Challenge/yolo_training/images/train\"\n",
    "label_dir = \"C:/Users/Philip/Documents/Fendt_KI_Challenge/yolo_training/labels/yolo_txt\"\n",
    "output_dir = \"C:/Users/Philip/Documents/Fendt_KI_Challenge/yolo_training/output_train\"\n",
    "\n",
    "# build paths \n",
    "train_img_dir = os.path.join(output_dir, \"images/train\")\n",
    "val_img_dir = os.path.join(output_dir, \"images/val\")\n",
    "train_label_dir = os.path.join(output_dir, \"labels/train\")\n",
    "val_label_dir = os.path.join(output_dir, \"labels/val\")\n",
    "\n",
    "# create folder for splited data\n",
    "os.makedirs(train_img_dir, exist_ok=True)\n",
    "os.makedirs(val_img_dir, exist_ok=True)\n",
    "os.makedirs(train_label_dir, exist_ok=True)\n",
    "os.makedirs(val_label_dir, exist_ok=True)\n",
    "\n",
    "split_ratio = 0.8  # 80% Training, 20% Validation\n",
    "\n",
    "def split_data(image_dir, label_dir, train_img_dir, val_img_dir, train_label_dir, val_label_dir, split_ratio):\n",
    "    '''\n",
    "    Splits data randomly and move them in recently created directorys\n",
    "\n",
    "    inputparameters:    severals paths (string) of directorys: image_dir, label_dir, train_img_dir, val_img_dir, train_label_dir, val_label_dir,\n",
    "                        split_ratio:            int             defines ratio of All data and train data\n",
    "    '''\n",
    "    # list of all images and labels of associated labels\n",
    "    images = [f for f in os.listdir(image_dir) if f.endswith((\".png\", \".jpg\", \".jpeg\"))]\n",
    "    random.shuffle(images)  # Zufällige Reihenfolge\n",
    "\n",
    "    # calculate number of train data\n",
    "    split_index = int(len(images) * split_ratio)\n",
    "\n",
    "    # split in train and validation data\n",
    "    train_images = images[:split_index]\n",
    "    val_images = images[split_index:]\n",
    "\n",
    "    # move files\n",
    "    for image_set, img_dir, label_dir_target in [\n",
    "        (train_images, train_img_dir, train_label_dir),\n",
    "        (val_images, val_img_dir, val_label_dir),\n",
    "    ]:\n",
    "        for image_file in image_set:\n",
    "            # Bild verschieben\n",
    "            src_img_path = os.path.join(image_dir, image_file)\n",
    "            dst_img_path = os.path.join(img_dir, image_file)\n",
    "            shutil.copy(src_img_path, dst_img_path)\n",
    "\n",
    "            # Zugehörige Label-Datei verschieben\n",
    "            label_file = os.path.splitext(image_file)[0] + \".txt\"\n",
    "            src_label_path = os.path.join(label_dir, label_file)\n",
    "            if os.path.exists(src_label_path):  # Prüfe, ob Label existiert\n",
    "                dst_label_path = os.path.join(label_dir_target, label_file)\n",
    "                shutil.copy(src_label_path, dst_label_path)\n",
    "\n",
    "    print(\"splitting completed!\")\n",
    "    print(f\"train data: {len(train_images)}\")\n",
    "    print(f\"validation data: {len(val_images)}\")\n",
    "\n",
    "if __name__ == \"__main__\":\n",
    "    split_data(image_dir, label_dir, train_img_dir, val_img_dir, train_label_dir, val_label_dir, split_ratio)\n"
   ]
  },
  {
   "cell_type": "markdown",
   "metadata": {},
   "source": [
    "### 3. Start training\n",
    "\n",
    "- Note: change the paths in sugarbeet_dataset.yaml to your absolute pahts to the train and validation directorys\n",
    "- 100 Epochs ~ 3 hours\n",
    "- skript saves the best model in runs\\detect\\train2\\weights"
   ]
  },
  {
   "cell_type": "code",
   "execution_count": 3,
   "metadata": {},
   "outputs": [
    {
     "name": "stdout",
     "output_type": "stream",
     "text": [
      "Device:  cuda\n",
      "New https://pypi.org/project/ultralytics/8.3.62 available  Update with 'pip install -U ultralytics'\n",
      "Ultralytics 8.3.61  Python-3.12.4 torch-2.5.1+cu124 CUDA:0 (NVIDIA GeForce RTX 3080, 12288MiB)\n",
      "\u001b[34m\u001b[1mengine\\trainer: \u001b[0mtask=detect, mode=train, model=yolo11l.pt, data=sugarbeet_dataset.yaml, epochs=150, time=None, patience=100, batch=16, imgsz=640, save=True, save_period=-1, cache=False, device=0, workers=8, project=None, name=train25, exist_ok=False, pretrained=True, optimizer=auto, verbose=True, seed=0, deterministic=True, single_cls=False, rect=False, cos_lr=False, close_mosaic=10, resume=False, amp=True, fraction=1.0, profile=False, freeze=None, multi_scale=False, overlap_mask=True, mask_ratio=4, dropout=0.0, val=True, split=val, save_json=False, save_hybrid=False, conf=None, iou=0.7, max_det=300, half=False, dnn=False, plots=True, source=None, vid_stride=1, stream_buffer=False, visualize=False, augment=True, agnostic_nms=False, classes=None, retina_masks=False, embed=None, show=False, save_frames=False, save_txt=False, save_conf=False, save_crop=False, show_labels=True, show_conf=True, show_boxes=True, line_width=None, format=torchscript, keras=False, optimize=False, int8=False, dynamic=False, simplify=True, opset=None, workspace=None, nms=False, lr0=0.01, lrf=0.01, momentum=0.937, weight_decay=0.0005, warmup_epochs=3.0, warmup_momentum=0.8, warmup_bias_lr=0.1, box=7.5, cls=0.5, dfl=1.5, pose=12.0, kobj=1.0, nbs=64, hsv_h=0.015, hsv_s=0.7, hsv_v=0.4, degrees=0.0, translate=0.1, scale=0.5, shear=0.0, perspective=0.0, flipud=0.0, fliplr=0.5, bgr=0.0, mosaic=1.0, mixup=0.0, copy_paste=0.0, copy_paste_mode=flip, auto_augment=randaugment, erasing=0.4, crop_fraction=1.0, cfg=None, tracker=botsort.yaml, save_dir=runs\\detect\\train25\n",
      "Overriding model.yaml nc=80 with nc=1\n",
      "\n",
      "                   from  n    params  module                                       arguments                     \n",
      "  0                  -1  1      1856  ultralytics.nn.modules.conv.Conv             [3, 64, 3, 2]                 \n",
      "  1                  -1  1     73984  ultralytics.nn.modules.conv.Conv             [64, 128, 3, 2]               \n",
      "  2                  -1  2    173824  ultralytics.nn.modules.block.C3k2            [128, 256, 2, True, 0.25]     \n",
      "  3                  -1  1    590336  ultralytics.nn.modules.conv.Conv             [256, 256, 3, 2]              \n",
      "  4                  -1  2    691712  ultralytics.nn.modules.block.C3k2            [256, 512, 2, True, 0.25]     \n",
      "  5                  -1  1   2360320  ultralytics.nn.modules.conv.Conv             [512, 512, 3, 2]              \n",
      "  6                  -1  2   2234368  ultralytics.nn.modules.block.C3k2            [512, 512, 2, True]           \n",
      "  7                  -1  1   2360320  ultralytics.nn.modules.conv.Conv             [512, 512, 3, 2]              \n",
      "  8                  -1  2   2234368  ultralytics.nn.modules.block.C3k2            [512, 512, 2, True]           \n",
      "  9                  -1  1    656896  ultralytics.nn.modules.block.SPPF            [512, 512, 5]                 \n",
      " 10                  -1  2   1455616  ultralytics.nn.modules.block.C2PSA           [512, 512, 2]                 \n",
      " 11                  -1  1         0  torch.nn.modules.upsampling.Upsample         [None, 2, 'nearest']          \n",
      " 12             [-1, 6]  1         0  ultralytics.nn.modules.conv.Concat           [1]                           \n",
      " 13                  -1  2   2496512  ultralytics.nn.modules.block.C3k2            [1024, 512, 2, True]          \n",
      " 14                  -1  1         0  torch.nn.modules.upsampling.Upsample         [None, 2, 'nearest']          \n",
      " 15             [-1, 4]  1         0  ultralytics.nn.modules.conv.Concat           [1]                           \n",
      " 16                  -1  2    756736  ultralytics.nn.modules.block.C3k2            [1024, 256, 2, True]          \n",
      " 17                  -1  1    590336  ultralytics.nn.modules.conv.Conv             [256, 256, 3, 2]              \n",
      " 18            [-1, 13]  1         0  ultralytics.nn.modules.conv.Concat           [1]                           \n",
      " 19                  -1  2   2365440  ultralytics.nn.modules.block.C3k2            [768, 512, 2, True]           \n",
      " 20                  -1  1   2360320  ultralytics.nn.modules.conv.Conv             [512, 512, 3, 2]              \n",
      " 21            [-1, 10]  1         0  ultralytics.nn.modules.conv.Concat           [1]                           \n",
      " 22                  -1  2   2496512  ultralytics.nn.modules.block.C3k2            [1024, 512, 2, True]          \n",
      " 23        [16, 19, 22]  1   1411795  ultralytics.nn.modules.head.Detect           [1, [256, 512, 512]]          \n",
      "YOLO11l summary: 631 layers, 25,311,251 parameters, 25,311,235 gradients, 87.3 GFLOPs\n",
      "\n",
      "Transferred 1009/1015 items from pretrained weights\n",
      "\u001b[34m\u001b[1mTensorBoard: \u001b[0mStart with 'tensorboard --logdir runs\\detect\\train25', view at http://localhost:6006/\n",
      "Freezing layer 'model.23.dfl.conv.weight'\n",
      "\u001b[34m\u001b[1mAMP: \u001b[0mrunning Automatic Mixed Precision (AMP) checks...\n",
      "\u001b[34m\u001b[1mAMP: \u001b[0mchecks passed \n"
     ]
    },
    {
     "name": "stderr",
     "output_type": "stream",
     "text": [
      "\u001b[34m\u001b[1mtrain: \u001b[0mScanning C:\\Users\\Philip\\Documents\\Fendt_KI_Challenge\\yolo_training\\output_train\\labels\\train.cache... 218 images, 0 backgrounds, 0 corrupt: 100%|██████████| 218/218 [00:00<?, ?it/s]"
     ]
    },
    {
     "name": "stdout",
     "output_type": "stream",
     "text": [
      "\u001b[34m\u001b[1malbumentations: \u001b[0mBlur(p=0.01, blur_limit=(3, 7)), MedianBlur(p=0.01, blur_limit=(3, 7)), ToGray(p=0.01, num_output_channels=3, method='weighted_average'), CLAHE(p=0.01, clip_limit=(1.0, 4.0), tile_grid_size=(8, 8))\n"
     ]
    },
    {
     "name": "stderr",
     "output_type": "stream",
     "text": [
      "\n",
      "\u001b[34m\u001b[1mval: \u001b[0mScanning C:\\Users\\Philip\\Documents\\Fendt_KI_Challenge\\yolo_training\\output_train\\labels\\val.cache... 55 images, 0 backgrounds, 0 corrupt: 100%|██████████| 55/55 [00:00<?, ?it/s]\n"
     ]
    },
    {
     "name": "stdout",
     "output_type": "stream",
     "text": [
      "Plotting labels to runs\\detect\\train25\\labels.jpg... \n",
      "\u001b[34m\u001b[1moptimizer:\u001b[0m 'optimizer=auto' found, ignoring 'lr0=0.01' and 'momentum=0.937' and determining best 'optimizer', 'lr0' and 'momentum' automatically... \n",
      "\u001b[34m\u001b[1moptimizer:\u001b[0m AdamW(lr=0.002, momentum=0.9) with parameter groups 167 weight(decay=0.0), 174 weight(decay=0.0005), 173 bias(decay=0.0)\n",
      "\u001b[34m\u001b[1mTensorBoard: \u001b[0mmodel graph visualization added \n",
      "Image sizes 640 train, 640 val\n",
      "Using 8 dataloader workers\n",
      "Logging results to \u001b[1mruns\\detect\\train25\u001b[0m\n",
      "Starting training for 150 epochs...\n",
      "\n",
      "      Epoch    GPU_mem   box_loss   cls_loss   dfl_loss  Instances       Size\n"
     ]
    },
    {
     "name": "stderr",
     "output_type": "stream",
     "text": [
      "      1/150      11.8G      2.052      2.492      1.679        589        640: 100%|██████████| 14/14 [00:15<00:00,  1.14s/it]\n",
      "                 Class     Images  Instances      Box(P          R      mAP50  mAP50-95): 100%|██████████| 2/2 [00:03<00:00,  1.95s/it]"
     ]
    },
    {
     "name": "stdout",
     "output_type": "stream",
     "text": [
      "                   all         55       2373      0.524       0.85      0.788      0.478\n"
     ]
    },
    {
     "name": "stderr",
     "output_type": "stream",
     "text": [
      "\n"
     ]
    },
    {
     "name": "stdout",
     "output_type": "stream",
     "text": [
      "\n",
      "      Epoch    GPU_mem   box_loss   cls_loss   dfl_loss  Instances       Size\n"
     ]
    },
    {
     "name": "stderr",
     "output_type": "stream",
     "text": [
      "      2/150      11.4G      1.186     0.7837      1.097        651        640: 100%|██████████| 14/14 [00:13<00:00,  1.06it/s]\n",
      "                 Class     Images  Instances      Box(P          R      mAP50  mAP50-95): 100%|██████████| 2/2 [00:02<00:00,  1.22s/it]"
     ]
    },
    {
     "name": "stdout",
     "output_type": "stream",
     "text": [
      "                   all         55       2373     0.0308      0.212     0.0186     0.0122\n"
     ]
    },
    {
     "name": "stderr",
     "output_type": "stream",
     "text": [
      "\n"
     ]
    },
    {
     "name": "stdout",
     "output_type": "stream",
     "text": [
      "\n",
      "      Epoch    GPU_mem   box_loss   cls_loss   dfl_loss  Instances       Size\n"
     ]
    },
    {
     "name": "stderr",
     "output_type": "stream",
     "text": [
      "      3/150      11.7G      1.101     0.7195      1.045        467        640: 100%|██████████| 14/14 [00:17<00:00,  1.27s/it]\n",
      "                 Class     Images  Instances      Box(P          R      mAP50  mAP50-95): 100%|██████████| 2/2 [00:04<00:00,  2.19s/it]"
     ]
    },
    {
     "name": "stdout",
     "output_type": "stream",
     "text": [
      "                   all         55       2373     0.0115     0.0801    0.00622    0.00359\n"
     ]
    },
    {
     "name": "stderr",
     "output_type": "stream",
     "text": [
      "\n"
     ]
    },
    {
     "name": "stdout",
     "output_type": "stream",
     "text": [
      "\n",
      "      Epoch    GPU_mem   box_loss   cls_loss   dfl_loss  Instances       Size\n"
     ]
    },
    {
     "name": "stderr",
     "output_type": "stream",
     "text": [
      "      4/150      11.7G      1.056     0.6885      1.035        501        640: 100%|██████████| 14/14 [00:16<00:00,  1.15s/it]\n",
      "                 Class     Images  Instances      Box(P          R      mAP50  mAP50-95): 100%|██████████| 2/2 [00:03<00:00,  1.85s/it]"
     ]
    },
    {
     "name": "stdout",
     "output_type": "stream",
     "text": [
      "                   all         55       2373      0.384      0.496      0.362      0.172\n"
     ]
    },
    {
     "name": "stderr",
     "output_type": "stream",
     "text": [
      "\n"
     ]
    },
    {
     "name": "stdout",
     "output_type": "stream",
     "text": [
      "\n",
      "      Epoch    GPU_mem   box_loss   cls_loss   dfl_loss  Instances       Size\n"
     ]
    },
    {
     "name": "stderr",
     "output_type": "stream",
     "text": [
      "      5/150      11.5G      1.081     0.6667      1.044        601        640: 100%|██████████| 14/14 [00:07<00:00,  1.80it/s]\n",
      "                 Class     Images  Instances      Box(P          R      mAP50  mAP50-95): 100%|██████████| 2/2 [00:03<00:00,  1.75s/it]"
     ]
    },
    {
     "name": "stdout",
     "output_type": "stream",
     "text": [
      "                   all         55       2373      0.632       0.66      0.676      0.446\n"
     ]
    },
    {
     "name": "stderr",
     "output_type": "stream",
     "text": [
      "\n"
     ]
    },
    {
     "name": "stdout",
     "output_type": "stream",
     "text": [
      "\n",
      "      Epoch    GPU_mem   box_loss   cls_loss   dfl_loss  Instances       Size\n"
     ]
    },
    {
     "name": "stderr",
     "output_type": "stream",
     "text": [
      "      6/150      11.5G      1.103     0.6646      1.058        678        640: 100%|██████████| 14/14 [00:07<00:00,  1.93it/s]\n",
      "                 Class     Images  Instances      Box(P          R      mAP50  mAP50-95): 100%|██████████| 2/2 [00:02<00:00,  1.38s/it]"
     ]
    },
    {
     "name": "stdout",
     "output_type": "stream",
     "text": [
      "                   all         55       2373      0.757       0.76      0.812      0.524\n"
     ]
    },
    {
     "name": "stderr",
     "output_type": "stream",
     "text": [
      "\n"
     ]
    },
    {
     "name": "stdout",
     "output_type": "stream",
     "text": [
      "\n",
      "      Epoch    GPU_mem   box_loss   cls_loss   dfl_loss  Instances       Size\n"
     ]
    },
    {
     "name": "stderr",
     "output_type": "stream",
     "text": [
      "      7/150      11.5G      1.084     0.6836      1.059        638        640: 100%|██████████| 14/14 [00:06<00:00,  2.23it/s]\n",
      "                 Class     Images  Instances      Box(P          R      mAP50  mAP50-95): 100%|██████████| 2/2 [00:01<00:00,  1.16it/s]"
     ]
    },
    {
     "name": "stdout",
     "output_type": "stream",
     "text": [
      "                   all         55       2373      0.815      0.748      0.818      0.516\n"
     ]
    },
    {
     "name": "stderr",
     "output_type": "stream",
     "text": [
      "\n"
     ]
    },
    {
     "name": "stdout",
     "output_type": "stream",
     "text": [
      "\n",
      "      Epoch    GPU_mem   box_loss   cls_loss   dfl_loss  Instances       Size\n"
     ]
    },
    {
     "name": "stderr",
     "output_type": "stream",
     "text": [
      "      8/150      11.7G       1.05     0.6432      1.049        553        640: 100%|██████████| 14/14 [00:05<00:00,  2.34it/s]\n",
      "                 Class     Images  Instances      Box(P          R      mAP50  mAP50-95): 100%|██████████| 2/2 [00:02<00:00,  1.49s/it]"
     ]
    },
    {
     "name": "stdout",
     "output_type": "stream",
     "text": [
      "                   all         55       2373      0.831      0.715      0.795      0.574\n"
     ]
    },
    {
     "name": "stderr",
     "output_type": "stream",
     "text": [
      "\n"
     ]
    },
    {
     "name": "stdout",
     "output_type": "stream",
     "text": [
      "\n",
      "      Epoch    GPU_mem   box_loss   cls_loss   dfl_loss  Instances       Size\n"
     ]
    },
    {
     "name": "stderr",
     "output_type": "stream",
     "text": [
      "      9/150      11.4G      1.069     0.6436      1.039        534        640: 100%|██████████| 14/14 [00:06<00:00,  2.21it/s]\n",
      "                 Class     Images  Instances      Box(P          R      mAP50  mAP50-95): 100%|██████████| 2/2 [00:02<00:00,  1.07s/it]"
     ]
    },
    {
     "name": "stdout",
     "output_type": "stream",
     "text": [
      "                   all         55       2373      0.875      0.752      0.836       0.59\n"
     ]
    },
    {
     "name": "stderr",
     "output_type": "stream",
     "text": [
      "\n"
     ]
    },
    {
     "name": "stdout",
     "output_type": "stream",
     "text": [
      "\n",
      "      Epoch    GPU_mem   box_loss   cls_loss   dfl_loss  Instances       Size\n"
     ]
    },
    {
     "name": "stderr",
     "output_type": "stream",
     "text": [
      "     10/150      11.6G      1.068     0.6384      1.048        651        640: 100%|██████████| 14/14 [00:14<00:00,  1.05s/it]\n",
      "                 Class     Images  Instances      Box(P          R      mAP50  mAP50-95): 100%|██████████| 2/2 [00:03<00:00,  1.63s/it]"
     ]
    },
    {
     "name": "stdout",
     "output_type": "stream",
     "text": [
      "                   all         55       2373      0.866      0.779      0.857      0.584\n"
     ]
    },
    {
     "name": "stderr",
     "output_type": "stream",
     "text": [
      "\n"
     ]
    },
    {
     "name": "stdout",
     "output_type": "stream",
     "text": [
      "\n",
      "      Epoch    GPU_mem   box_loss   cls_loss   dfl_loss  Instances       Size\n"
     ]
    },
    {
     "name": "stderr",
     "output_type": "stream",
     "text": [
      "     11/150      11.3G      1.017     0.6029      1.035        551        640: 100%|██████████| 14/14 [00:05<00:00,  2.41it/s]\n",
      "                 Class     Images  Instances      Box(P          R      mAP50  mAP50-95): 100%|██████████| 2/2 [00:01<00:00,  1.35it/s]"
     ]
    },
    {
     "name": "stdout",
     "output_type": "stream",
     "text": [
      "                   all         55       2373      0.852      0.816      0.884      0.633\n"
     ]
    },
    {
     "name": "stderr",
     "output_type": "stream",
     "text": [
      "\n"
     ]
    },
    {
     "name": "stdout",
     "output_type": "stream",
     "text": [
      "\n",
      "      Epoch    GPU_mem   box_loss   cls_loss   dfl_loss  Instances       Size\n"
     ]
    },
    {
     "name": "stderr",
     "output_type": "stream",
     "text": [
      "     12/150      11.4G      1.044     0.5886      1.016        784        640: 100%|██████████| 14/14 [00:07<00:00,  1.85it/s]\n",
      "                 Class     Images  Instances      Box(P          R      mAP50  mAP50-95): 100%|██████████| 2/2 [00:02<00:00,  1.16s/it]"
     ]
    },
    {
     "name": "stdout",
     "output_type": "stream",
     "text": [
      "                   all         55       2373      0.884      0.834      0.901      0.629\n"
     ]
    },
    {
     "name": "stderr",
     "output_type": "stream",
     "text": [
      "\n"
     ]
    },
    {
     "name": "stdout",
     "output_type": "stream",
     "text": [
      "\n",
      "      Epoch    GPU_mem   box_loss   cls_loss   dfl_loss  Instances       Size\n"
     ]
    },
    {
     "name": "stderr",
     "output_type": "stream",
     "text": [
      "     13/150      11.3G      1.006      0.583      1.018        600        640: 100%|██████████| 14/14 [00:07<00:00,  1.82it/s]\n",
      "                 Class     Images  Instances      Box(P          R      mAP50  mAP50-95): 100%|██████████| 2/2 [00:01<00:00,  1.50it/s]"
     ]
    },
    {
     "name": "stdout",
     "output_type": "stream",
     "text": [
      "                   all         55       2373      0.899      0.843      0.905      0.643\n"
     ]
    },
    {
     "name": "stderr",
     "output_type": "stream",
     "text": [
      "\n"
     ]
    },
    {
     "name": "stdout",
     "output_type": "stream",
     "text": [
      "\n",
      "      Epoch    GPU_mem   box_loss   cls_loss   dfl_loss  Instances       Size\n"
     ]
    },
    {
     "name": "stderr",
     "output_type": "stream",
     "text": [
      "     14/150      11.9G     0.9732     0.5516      1.008        757        640: 100%|██████████| 14/14 [00:14<00:00,  1.06s/it]\n",
      "                 Class     Images  Instances      Box(P          R      mAP50  mAP50-95): 100%|██████████| 2/2 [00:04<00:00,  2.25s/it]"
     ]
    },
    {
     "name": "stdout",
     "output_type": "stream",
     "text": [
      "                   all         55       2373      0.886      0.823      0.893       0.62\n"
     ]
    },
    {
     "name": "stderr",
     "output_type": "stream",
     "text": [
      "\n"
     ]
    },
    {
     "name": "stdout",
     "output_type": "stream",
     "text": [
      "\n",
      "      Epoch    GPU_mem   box_loss   cls_loss   dfl_loss  Instances       Size\n"
     ]
    },
    {
     "name": "stderr",
     "output_type": "stream",
     "text": [
      "     15/150      11.8G     0.9706     0.5398     0.9981        590        640: 100%|██████████| 14/14 [00:10<00:00,  1.40it/s]\n",
      "                 Class     Images  Instances      Box(P          R      mAP50  mAP50-95): 100%|██████████| 2/2 [00:02<00:00,  1.02s/it]"
     ]
    },
    {
     "name": "stdout",
     "output_type": "stream",
     "text": [
      "                   all         55       2373      0.914      0.859      0.919      0.654\n"
     ]
    },
    {
     "name": "stderr",
     "output_type": "stream",
     "text": [
      "\n"
     ]
    },
    {
     "name": "stdout",
     "output_type": "stream",
     "text": [
      "\n",
      "      Epoch    GPU_mem   box_loss   cls_loss   dfl_loss  Instances       Size\n"
     ]
    },
    {
     "name": "stderr",
     "output_type": "stream",
     "text": [
      "     16/150      11.5G     0.9758     0.5477       1.01        428        640: 100%|██████████| 14/14 [00:04<00:00,  3.21it/s]\n",
      "                 Class     Images  Instances      Box(P          R      mAP50  mAP50-95): 100%|██████████| 2/2 [00:01<00:00,  1.32it/s]"
     ]
    },
    {
     "name": "stdout",
     "output_type": "stream",
     "text": [
      "                   all         55       2373       0.88       0.86      0.912      0.628\n"
     ]
    },
    {
     "name": "stderr",
     "output_type": "stream",
     "text": [
      "\n"
     ]
    },
    {
     "name": "stdout",
     "output_type": "stream",
     "text": [
      "\n",
      "      Epoch    GPU_mem   box_loss   cls_loss   dfl_loss  Instances       Size\n"
     ]
    },
    {
     "name": "stderr",
     "output_type": "stream",
     "text": [
      "     17/150      11.6G     0.9263     0.5263     0.9985        560        640: 100%|██████████| 14/14 [00:06<00:00,  2.19it/s]\n",
      "                 Class     Images  Instances      Box(P          R      mAP50  mAP50-95): 100%|██████████| 2/2 [00:02<00:00,  1.06s/it]"
     ]
    },
    {
     "name": "stdout",
     "output_type": "stream",
     "text": [
      "                   all         55       2373      0.899      0.873      0.925      0.663\n"
     ]
    },
    {
     "name": "stderr",
     "output_type": "stream",
     "text": [
      "\n"
     ]
    },
    {
     "name": "stdout",
     "output_type": "stream",
     "text": [
      "\n",
      "      Epoch    GPU_mem   box_loss   cls_loss   dfl_loss  Instances       Size\n"
     ]
    },
    {
     "name": "stderr",
     "output_type": "stream",
     "text": [
      "     18/150      11.6G     0.9276     0.5279       1.01        612        640: 100%|██████████| 14/14 [00:09<00:00,  1.54it/s]\n",
      "                 Class     Images  Instances      Box(P          R      mAP50  mAP50-95): 100%|██████████| 2/2 [00:02<00:00,  1.07s/it]"
     ]
    },
    {
     "name": "stdout",
     "output_type": "stream",
     "text": [
      "                   all         55       2373       0.91       0.86       0.92      0.662\n"
     ]
    },
    {
     "name": "stderr",
     "output_type": "stream",
     "text": [
      "\n"
     ]
    },
    {
     "name": "stdout",
     "output_type": "stream",
     "text": [
      "\n",
      "      Epoch    GPU_mem   box_loss   cls_loss   dfl_loss  Instances       Size\n"
     ]
    },
    {
     "name": "stderr",
     "output_type": "stream",
     "text": [
      "     19/150      11.4G     0.9391      0.543      1.006        659        640: 100%|██████████| 14/14 [00:07<00:00,  1.88it/s]\n",
      "                 Class     Images  Instances      Box(P          R      mAP50  mAP50-95): 100%|██████████| 2/2 [00:02<00:00,  1.11s/it]"
     ]
    },
    {
     "name": "stdout",
     "output_type": "stream",
     "text": [
      "                   all         55       2373      0.924      0.854      0.922      0.681\n"
     ]
    },
    {
     "name": "stderr",
     "output_type": "stream",
     "text": [
      "\n"
     ]
    },
    {
     "name": "stdout",
     "output_type": "stream",
     "text": [
      "\n",
      "      Epoch    GPU_mem   box_loss   cls_loss   dfl_loss  Instances       Size\n"
     ]
    },
    {
     "name": "stderr",
     "output_type": "stream",
     "text": [
      "     20/150      11.6G     0.8906     0.5277     0.9991        522        640: 100%|██████████| 14/14 [00:05<00:00,  2.42it/s]\n",
      "                 Class     Images  Instances      Box(P          R      mAP50  mAP50-95): 100%|██████████| 2/2 [00:01<00:00,  1.24it/s]"
     ]
    },
    {
     "name": "stdout",
     "output_type": "stream",
     "text": [
      "                   all         55       2373      0.933      0.852      0.917      0.676\n"
     ]
    },
    {
     "name": "stderr",
     "output_type": "stream",
     "text": [
      "\n"
     ]
    },
    {
     "name": "stdout",
     "output_type": "stream",
     "text": [
      "\n",
      "      Epoch    GPU_mem   box_loss   cls_loss   dfl_loss  Instances       Size\n"
     ]
    },
    {
     "name": "stderr",
     "output_type": "stream",
     "text": [
      "     21/150      11.7G     0.8729     0.4946     0.9731        732        640: 100%|██████████| 14/14 [00:05<00:00,  2.75it/s]\n",
      "                 Class     Images  Instances      Box(P          R      mAP50  mAP50-95): 100%|██████████| 2/2 [00:01<00:00,  1.01it/s]"
     ]
    },
    {
     "name": "stdout",
     "output_type": "stream",
     "text": [
      "                   all         55       2373      0.936      0.876       0.93       0.68\n"
     ]
    },
    {
     "name": "stderr",
     "output_type": "stream",
     "text": [
      "\n"
     ]
    },
    {
     "name": "stdout",
     "output_type": "stream",
     "text": [
      "\n",
      "      Epoch    GPU_mem   box_loss   cls_loss   dfl_loss  Instances       Size\n"
     ]
    },
    {
     "name": "stderr",
     "output_type": "stream",
     "text": [
      "     22/150      11.7G      0.885     0.5108     0.9729        854        640: 100%|██████████| 14/14 [00:10<00:00,  1.36it/s]\n",
      "                 Class     Images  Instances      Box(P          R      mAP50  mAP50-95): 100%|██████████| 2/2 [00:02<00:00,  1.05s/it]"
     ]
    },
    {
     "name": "stdout",
     "output_type": "stream",
     "text": [
      "                   all         55       2373      0.922      0.869      0.929      0.691\n"
     ]
    },
    {
     "name": "stderr",
     "output_type": "stream",
     "text": [
      "\n"
     ]
    },
    {
     "name": "stdout",
     "output_type": "stream",
     "text": [
      "\n",
      "      Epoch    GPU_mem   box_loss   cls_loss   dfl_loss  Instances       Size\n"
     ]
    },
    {
     "name": "stderr",
     "output_type": "stream",
     "text": [
      "     23/150      11.4G     0.8385     0.4837     0.9577        705        640: 100%|██████████| 14/14 [00:03<00:00,  3.57it/s]\n",
      "                 Class     Images  Instances      Box(P          R      mAP50  mAP50-95): 100%|██████████| 2/2 [00:01<00:00,  1.46it/s]"
     ]
    },
    {
     "name": "stdout",
     "output_type": "stream",
     "text": [
      "                   all         55       2373      0.925      0.879      0.935      0.685\n"
     ]
    },
    {
     "name": "stderr",
     "output_type": "stream",
     "text": [
      "\n"
     ]
    },
    {
     "name": "stdout",
     "output_type": "stream",
     "text": [
      "\n",
      "      Epoch    GPU_mem   box_loss   cls_loss   dfl_loss  Instances       Size\n"
     ]
    },
    {
     "name": "stderr",
     "output_type": "stream",
     "text": [
      "     24/150      11.7G     0.8329     0.4744     0.9612        685        640: 100%|██████████| 14/14 [00:07<00:00,  1.81it/s]\n",
      "                 Class     Images  Instances      Box(P          R      mAP50  mAP50-95): 100%|██████████| 2/2 [00:01<00:00,  1.04it/s]"
     ]
    },
    {
     "name": "stdout",
     "output_type": "stream",
     "text": [
      "                   all         55       2373       0.93      0.876      0.935      0.699\n"
     ]
    },
    {
     "name": "stderr",
     "output_type": "stream",
     "text": [
      "\n"
     ]
    },
    {
     "name": "stdout",
     "output_type": "stream",
     "text": [
      "\n",
      "      Epoch    GPU_mem   box_loss   cls_loss   dfl_loss  Instances       Size\n"
     ]
    },
    {
     "name": "stderr",
     "output_type": "stream",
     "text": [
      "     25/150      11.5G     0.8524     0.4795     0.9759        451        640: 100%|██████████| 14/14 [00:04<00:00,  2.86it/s]\n",
      "                 Class     Images  Instances      Box(P          R      mAP50  mAP50-95): 100%|██████████| 2/2 [00:02<00:00,  1.13s/it]"
     ]
    },
    {
     "name": "stdout",
     "output_type": "stream",
     "text": [
      "                   all         55       2373      0.943      0.882      0.943      0.708\n"
     ]
    },
    {
     "name": "stderr",
     "output_type": "stream",
     "text": [
      "\n"
     ]
    },
    {
     "name": "stdout",
     "output_type": "stream",
     "text": [
      "\n",
      "      Epoch    GPU_mem   box_loss   cls_loss   dfl_loss  Instances       Size\n"
     ]
    },
    {
     "name": "stderr",
     "output_type": "stream",
     "text": [
      "     26/150      11.6G       0.85     0.4805     0.9557        547        640: 100%|██████████| 14/14 [00:08<00:00,  1.62it/s]\n",
      "                 Class     Images  Instances      Box(P          R      mAP50  mAP50-95): 100%|██████████| 2/2 [00:05<00:00,  2.83s/it]"
     ]
    },
    {
     "name": "stdout",
     "output_type": "stream",
     "text": [
      "                   all         55       2373      0.921      0.882      0.938      0.705\n"
     ]
    },
    {
     "name": "stderr",
     "output_type": "stream",
     "text": [
      "\n"
     ]
    },
    {
     "name": "stdout",
     "output_type": "stream",
     "text": [
      "\n",
      "      Epoch    GPU_mem   box_loss   cls_loss   dfl_loss  Instances       Size\n"
     ]
    },
    {
     "name": "stderr",
     "output_type": "stream",
     "text": [
      "     27/150      11.6G     0.8705     0.4978     0.9533        591        640: 100%|██████████| 14/14 [00:12<00:00,  1.09it/s]\n",
      "                 Class     Images  Instances      Box(P          R      mAP50  mAP50-95): 100%|██████████| 2/2 [00:03<00:00,  1.54s/it]"
     ]
    },
    {
     "name": "stdout",
     "output_type": "stream",
     "text": [
      "                   all         55       2373      0.927       0.89      0.938      0.703\n"
     ]
    },
    {
     "name": "stderr",
     "output_type": "stream",
     "text": [
      "\n"
     ]
    },
    {
     "name": "stdout",
     "output_type": "stream",
     "text": [
      "\n",
      "      Epoch    GPU_mem   box_loss   cls_loss   dfl_loss  Instances       Size\n"
     ]
    },
    {
     "name": "stderr",
     "output_type": "stream",
     "text": [
      "     28/150      11.4G     0.8341     0.4683     0.9697        556        640: 100%|██████████| 14/14 [00:10<00:00,  1.32it/s]\n",
      "                 Class     Images  Instances      Box(P          R      mAP50  mAP50-95): 100%|██████████| 2/2 [00:02<00:00,  1.05s/it]"
     ]
    },
    {
     "name": "stdout",
     "output_type": "stream",
     "text": [
      "                   all         55       2373      0.945      0.887      0.948      0.726\n"
     ]
    },
    {
     "name": "stderr",
     "output_type": "stream",
     "text": [
      "\n"
     ]
    },
    {
     "name": "stdout",
     "output_type": "stream",
     "text": [
      "\n",
      "      Epoch    GPU_mem   box_loss   cls_loss   dfl_loss  Instances       Size\n"
     ]
    },
    {
     "name": "stderr",
     "output_type": "stream",
     "text": [
      "     29/150      11.3G     0.8278     0.4624     0.9677        612        640: 100%|██████████| 14/14 [00:07<00:00,  1.98it/s]\n",
      "                 Class     Images  Instances      Box(P          R      mAP50  mAP50-95): 100%|██████████| 2/2 [00:02<00:00,  1.14s/it]"
     ]
    },
    {
     "name": "stdout",
     "output_type": "stream",
     "text": [
      "                   all         55       2373      0.954      0.887      0.948      0.709\n"
     ]
    },
    {
     "name": "stderr",
     "output_type": "stream",
     "text": [
      "\n"
     ]
    },
    {
     "name": "stdout",
     "output_type": "stream",
     "text": [
      "\n",
      "      Epoch    GPU_mem   box_loss   cls_loss   dfl_loss  Instances       Size\n"
     ]
    },
    {
     "name": "stderr",
     "output_type": "stream",
     "text": [
      "     30/150      11.3G     0.8448     0.4626     0.9573        517        640: 100%|██████████| 14/14 [00:06<00:00,  2.20it/s]\n",
      "                 Class     Images  Instances      Box(P          R      mAP50  mAP50-95): 100%|██████████| 2/2 [00:01<00:00,  1.02it/s]"
     ]
    },
    {
     "name": "stdout",
     "output_type": "stream",
     "text": [
      "                   all         55       2373      0.946      0.902      0.952      0.719\n"
     ]
    },
    {
     "name": "stderr",
     "output_type": "stream",
     "text": [
      "\n"
     ]
    },
    {
     "name": "stdout",
     "output_type": "stream",
     "text": [
      "\n",
      "      Epoch    GPU_mem   box_loss   cls_loss   dfl_loss  Instances       Size\n"
     ]
    },
    {
     "name": "stderr",
     "output_type": "stream",
     "text": [
      "     31/150      11.8G     0.8613     0.4782     0.9693        576        640: 100%|██████████| 14/14 [00:10<00:00,  1.33it/s]\n",
      "                 Class     Images  Instances      Box(P          R      mAP50  mAP50-95): 100%|██████████| 2/2 [00:02<00:00,  1.41s/it]"
     ]
    },
    {
     "name": "stdout",
     "output_type": "stream",
     "text": [
      "                   all         55       2373      0.941      0.884      0.942      0.725\n"
     ]
    },
    {
     "name": "stderr",
     "output_type": "stream",
     "text": [
      "\n"
     ]
    },
    {
     "name": "stdout",
     "output_type": "stream",
     "text": [
      "\n",
      "      Epoch    GPU_mem   box_loss   cls_loss   dfl_loss  Instances       Size\n"
     ]
    },
    {
     "name": "stderr",
     "output_type": "stream",
     "text": [
      "     32/150      11.5G     0.8577     0.4721     0.9688        711        640: 100%|██████████| 14/14 [00:11<00:00,  1.26it/s]\n",
      "                 Class     Images  Instances      Box(P          R      mAP50  mAP50-95): 100%|██████████| 2/2 [00:02<00:00,  1.14s/it]"
     ]
    },
    {
     "name": "stdout",
     "output_type": "stream",
     "text": [
      "                   all         55       2373      0.928      0.895      0.942      0.687\n"
     ]
    },
    {
     "name": "stderr",
     "output_type": "stream",
     "text": [
      "\n"
     ]
    },
    {
     "name": "stdout",
     "output_type": "stream",
     "text": [
      "\n",
      "      Epoch    GPU_mem   box_loss   cls_loss   dfl_loss  Instances       Size\n"
     ]
    },
    {
     "name": "stderr",
     "output_type": "stream",
     "text": [
      "     33/150      11.8G     0.9229      0.502     0.9969        951        640: 100%|██████████| 14/14 [00:16<00:00,  1.15s/it]\n",
      "                 Class     Images  Instances      Box(P          R      mAP50  mAP50-95): 100%|██████████| 2/2 [00:02<00:00,  1.21s/it]"
     ]
    },
    {
     "name": "stdout",
     "output_type": "stream",
     "text": [
      "                   all         55       2373      0.957      0.898       0.95      0.712\n"
     ]
    },
    {
     "name": "stderr",
     "output_type": "stream",
     "text": [
      "\n"
     ]
    },
    {
     "name": "stdout",
     "output_type": "stream",
     "text": [
      "\n",
      "      Epoch    GPU_mem   box_loss   cls_loss   dfl_loss  Instances       Size\n"
     ]
    },
    {
     "name": "stderr",
     "output_type": "stream",
     "text": [
      "     34/150      11.6G     0.8299     0.4701     0.9596        672        640: 100%|██████████| 14/14 [00:16<00:00,  1.15s/it]\n",
      "                 Class     Images  Instances      Box(P          R      mAP50  mAP50-95): 100%|██████████| 2/2 [00:02<00:00,  1.13s/it]"
     ]
    },
    {
     "name": "stdout",
     "output_type": "stream",
     "text": [
      "                   all         55       2373      0.933      0.879      0.941      0.718\n"
     ]
    },
    {
     "name": "stderr",
     "output_type": "stream",
     "text": [
      "\n"
     ]
    },
    {
     "name": "stdout",
     "output_type": "stream",
     "text": [
      "\n",
      "      Epoch    GPU_mem   box_loss   cls_loss   dfl_loss  Instances       Size\n"
     ]
    },
    {
     "name": "stderr",
     "output_type": "stream",
     "text": [
      "     35/150      11.5G     0.8676     0.4822     0.9647        778        640: 100%|██████████| 14/14 [00:13<00:00,  1.03it/s]\n",
      "                 Class     Images  Instances      Box(P          R      mAP50  mAP50-95): 100%|██████████| 2/2 [00:03<00:00,  1.77s/it]"
     ]
    },
    {
     "name": "stdout",
     "output_type": "stream",
     "text": [
      "                   all         55       2373      0.943      0.893      0.949      0.727\n"
     ]
    },
    {
     "name": "stderr",
     "output_type": "stream",
     "text": [
      "\n"
     ]
    },
    {
     "name": "stdout",
     "output_type": "stream",
     "text": [
      "\n",
      "      Epoch    GPU_mem   box_loss   cls_loss   dfl_loss  Instances       Size\n"
     ]
    },
    {
     "name": "stderr",
     "output_type": "stream",
     "text": [
      "     36/150      11.7G     0.8233     0.4503     0.9539        577        640: 100%|██████████| 14/14 [00:27<00:00,  1.93s/it]\n",
      "                 Class     Images  Instances      Box(P          R      mAP50  mAP50-95): 100%|██████████| 2/2 [00:05<00:00,  2.53s/it]"
     ]
    },
    {
     "name": "stdout",
     "output_type": "stream",
     "text": [
      "                   all         55       2373      0.944      0.891      0.946       0.73\n"
     ]
    },
    {
     "name": "stderr",
     "output_type": "stream",
     "text": [
      "\n"
     ]
    },
    {
     "name": "stdout",
     "output_type": "stream",
     "text": [
      "\n",
      "      Epoch    GPU_mem   box_loss   cls_loss   dfl_loss  Instances       Size\n"
     ]
    },
    {
     "name": "stderr",
     "output_type": "stream",
     "text": [
      "     37/150      11.8G     0.7948     0.4366     0.9474        479        640: 100%|██████████| 14/14 [00:21<00:00,  1.55s/it]\n",
      "                 Class     Images  Instances      Box(P          R      mAP50  mAP50-95): 100%|██████████| 2/2 [00:02<00:00,  1.44s/it]"
     ]
    },
    {
     "name": "stdout",
     "output_type": "stream",
     "text": [
      "                   all         55       2373      0.952      0.898      0.954      0.725\n"
     ]
    },
    {
     "name": "stderr",
     "output_type": "stream",
     "text": [
      "\n"
     ]
    },
    {
     "name": "stdout",
     "output_type": "stream",
     "text": [
      "\n",
      "      Epoch    GPU_mem   box_loss   cls_loss   dfl_loss  Instances       Size\n"
     ]
    },
    {
     "name": "stderr",
     "output_type": "stream",
     "text": [
      "     38/150      11.4G     0.8257     0.4486     0.9497        547        640: 100%|██████████| 14/14 [00:12<00:00,  1.11it/s]\n",
      "                 Class     Images  Instances      Box(P          R      mAP50  mAP50-95): 100%|██████████| 2/2 [00:02<00:00,  1.45s/it]"
     ]
    },
    {
     "name": "stdout",
     "output_type": "stream",
     "text": [
      "                   all         55       2373      0.952      0.868      0.937      0.718\n"
     ]
    },
    {
     "name": "stderr",
     "output_type": "stream",
     "text": [
      "\n"
     ]
    },
    {
     "name": "stdout",
     "output_type": "stream",
     "text": [
      "\n",
      "      Epoch    GPU_mem   box_loss   cls_loss   dfl_loss  Instances       Size\n"
     ]
    },
    {
     "name": "stderr",
     "output_type": "stream",
     "text": [
      "     39/150      11.6G     0.8253     0.4455     0.9488        675        640: 100%|██████████| 14/14 [00:13<00:00,  1.07it/s]\n",
      "                 Class     Images  Instances      Box(P          R      mAP50  mAP50-95): 100%|██████████| 2/2 [00:02<00:00,  1.48s/it]"
     ]
    },
    {
     "name": "stdout",
     "output_type": "stream",
     "text": [
      "                   all         55       2373      0.938      0.856      0.933      0.696\n"
     ]
    },
    {
     "name": "stderr",
     "output_type": "stream",
     "text": [
      "\n"
     ]
    },
    {
     "name": "stdout",
     "output_type": "stream",
     "text": [
      "\n",
      "      Epoch    GPU_mem   box_loss   cls_loss   dfl_loss  Instances       Size\n"
     ]
    },
    {
     "name": "stderr",
     "output_type": "stream",
     "text": [
      "     40/150      11.6G     0.7553     0.4243     0.9391        578        640: 100%|██████████| 14/14 [00:13<00:00,  1.00it/s]\n",
      "                 Class     Images  Instances      Box(P          R      mAP50  mAP50-95): 100%|██████████| 2/2 [00:02<00:00,  1.32s/it]"
     ]
    },
    {
     "name": "stdout",
     "output_type": "stream",
     "text": [
      "                   all         55       2373      0.956      0.899      0.958       0.75\n"
     ]
    },
    {
     "name": "stderr",
     "output_type": "stream",
     "text": [
      "\n"
     ]
    },
    {
     "name": "stdout",
     "output_type": "stream",
     "text": [
      "\n",
      "      Epoch    GPU_mem   box_loss   cls_loss   dfl_loss  Instances       Size\n"
     ]
    },
    {
     "name": "stderr",
     "output_type": "stream",
     "text": [
      "     41/150      11.7G     0.7895     0.4344     0.9396        660        640: 100%|██████████| 14/14 [00:14<00:00,  1.02s/it]\n",
      "                 Class     Images  Instances      Box(P          R      mAP50  mAP50-95): 100%|██████████| 2/2 [00:07<00:00,  3.55s/it]"
     ]
    },
    {
     "name": "stdout",
     "output_type": "stream",
     "text": [
      "                   all         55       2373      0.947      0.884      0.947      0.741\n"
     ]
    },
    {
     "name": "stderr",
     "output_type": "stream",
     "text": [
      "\n"
     ]
    },
    {
     "name": "stdout",
     "output_type": "stream",
     "text": [
      "\n",
      "      Epoch    GPU_mem   box_loss   cls_loss   dfl_loss  Instances       Size\n"
     ]
    },
    {
     "name": "stderr",
     "output_type": "stream",
     "text": [
      "     42/150      11.5G     0.7965     0.4377      0.938        457        640: 100%|██████████| 14/14 [00:15<00:00,  1.08s/it]\n",
      "                 Class     Images  Instances      Box(P          R      mAP50  mAP50-95): 100%|██████████| 2/2 [00:02<00:00,  1.34s/it]"
     ]
    },
    {
     "name": "stdout",
     "output_type": "stream",
     "text": [
      "                   all         55       2373      0.953      0.908      0.956      0.747\n"
     ]
    },
    {
     "name": "stderr",
     "output_type": "stream",
     "text": [
      "\n"
     ]
    },
    {
     "name": "stdout",
     "output_type": "stream",
     "text": [
      "\n",
      "      Epoch    GPU_mem   box_loss   cls_loss   dfl_loss  Instances       Size\n"
     ]
    },
    {
     "name": "stderr",
     "output_type": "stream",
     "text": [
      "     43/150      11.4G      0.786     0.4361     0.9429        583        640: 100%|██████████| 14/14 [00:08<00:00,  1.72it/s]\n",
      "                 Class     Images  Instances      Box(P          R      mAP50  mAP50-95): 100%|██████████| 2/2 [00:03<00:00,  1.85s/it]"
     ]
    },
    {
     "name": "stdout",
     "output_type": "stream",
     "text": [
      "                   all         55       2373      0.951      0.884      0.945      0.739\n"
     ]
    },
    {
     "name": "stderr",
     "output_type": "stream",
     "text": [
      "\n"
     ]
    },
    {
     "name": "stdout",
     "output_type": "stream",
     "text": [
      "\n",
      "      Epoch    GPU_mem   box_loss   cls_loss   dfl_loss  Instances       Size\n"
     ]
    },
    {
     "name": "stderr",
     "output_type": "stream",
     "text": [
      "     44/150      11.6G     0.7654     0.4152     0.9276        595        640: 100%|██████████| 14/14 [00:19<00:00,  1.43s/it]\n",
      "                 Class     Images  Instances      Box(P          R      mAP50  mAP50-95): 100%|██████████| 2/2 [00:11<00:00,  5.52s/it]"
     ]
    },
    {
     "name": "stdout",
     "output_type": "stream",
     "text": [
      "                   all         55       2373      0.948      0.912      0.956      0.746\n"
     ]
    },
    {
     "name": "stderr",
     "output_type": "stream",
     "text": [
      "\n"
     ]
    },
    {
     "name": "stdout",
     "output_type": "stream",
     "text": [
      "\n",
      "      Epoch    GPU_mem   box_loss   cls_loss   dfl_loss  Instances       Size\n"
     ]
    },
    {
     "name": "stderr",
     "output_type": "stream",
     "text": [
      "     45/150      11.5G      0.781     0.4303     0.9434        517        640: 100%|██████████| 14/14 [00:17<00:00,  1.22s/it]\n",
      "                 Class     Images  Instances      Box(P          R      mAP50  mAP50-95): 100%|██████████| 2/2 [00:01<00:00,  1.32it/s]"
     ]
    },
    {
     "name": "stdout",
     "output_type": "stream",
     "text": [
      "                   all         55       2373      0.943      0.902      0.952      0.736\n"
     ]
    },
    {
     "name": "stderr",
     "output_type": "stream",
     "text": [
      "\n"
     ]
    },
    {
     "name": "stdout",
     "output_type": "stream",
     "text": [
      "\n",
      "      Epoch    GPU_mem   box_loss   cls_loss   dfl_loss  Instances       Size\n"
     ]
    },
    {
     "name": "stderr",
     "output_type": "stream",
     "text": [
      "     46/150      11.8G     0.7813     0.4212     0.9271        610        640: 100%|██████████| 14/14 [00:10<00:00,  1.33it/s]\n",
      "                 Class     Images  Instances      Box(P          R      mAP50  mAP50-95): 100%|██████████| 2/2 [00:02<00:00,  1.10s/it]"
     ]
    },
    {
     "name": "stdout",
     "output_type": "stream",
     "text": [
      "                   all         55       2373      0.941      0.903       0.95      0.731\n"
     ]
    },
    {
     "name": "stderr",
     "output_type": "stream",
     "text": [
      "\n"
     ]
    },
    {
     "name": "stdout",
     "output_type": "stream",
     "text": [
      "\n",
      "      Epoch    GPU_mem   box_loss   cls_loss   dfl_loss  Instances       Size\n"
     ]
    },
    {
     "name": "stderr",
     "output_type": "stream",
     "text": [
      "     47/150      11.5G      0.772     0.4136     0.9325        626        640: 100%|██████████| 14/14 [00:09<00:00,  1.55it/s]\n",
      "                 Class     Images  Instances      Box(P          R      mAP50  mAP50-95): 100%|██████████| 2/2 [00:01<00:00,  1.01it/s]"
     ]
    },
    {
     "name": "stdout",
     "output_type": "stream",
     "text": [
      "                   all         55       2373       0.94      0.917      0.956      0.749\n"
     ]
    },
    {
     "name": "stderr",
     "output_type": "stream",
     "text": [
      "\n"
     ]
    },
    {
     "name": "stdout",
     "output_type": "stream",
     "text": [
      "\n",
      "      Epoch    GPU_mem   box_loss   cls_loss   dfl_loss  Instances       Size\n"
     ]
    },
    {
     "name": "stderr",
     "output_type": "stream",
     "text": [
      "     48/150      11.7G     0.7673     0.4086     0.9307        519        640: 100%|██████████| 14/14 [00:12<00:00,  1.13it/s]\n",
      "                 Class     Images  Instances      Box(P          R      mAP50  mAP50-95): 100%|██████████| 2/2 [00:02<00:00,  1.04s/it]"
     ]
    },
    {
     "name": "stdout",
     "output_type": "stream",
     "text": [
      "                   all         55       2373       0.96      0.909      0.962      0.753\n"
     ]
    },
    {
     "name": "stderr",
     "output_type": "stream",
     "text": [
      "\n"
     ]
    },
    {
     "name": "stdout",
     "output_type": "stream",
     "text": [
      "\n",
      "      Epoch    GPU_mem   box_loss   cls_loss   dfl_loss  Instances       Size\n"
     ]
    },
    {
     "name": "stderr",
     "output_type": "stream",
     "text": [
      "     49/150      11.3G     0.8108     0.4332     0.9476        782        640: 100%|██████████| 14/14 [00:04<00:00,  3.00it/s]\n",
      "                 Class     Images  Instances      Box(P          R      mAP50  mAP50-95): 100%|██████████| 2/2 [00:02<00:00,  1.03s/it]"
     ]
    },
    {
     "name": "stdout",
     "output_type": "stream",
     "text": [
      "                   all         55       2373      0.963      0.909      0.961      0.753\n"
     ]
    },
    {
     "name": "stderr",
     "output_type": "stream",
     "text": [
      "\n"
     ]
    },
    {
     "name": "stdout",
     "output_type": "stream",
     "text": [
      "\n",
      "      Epoch    GPU_mem   box_loss   cls_loss   dfl_loss  Instances       Size\n"
     ]
    },
    {
     "name": "stderr",
     "output_type": "stream",
     "text": [
      "     50/150      11.6G      0.773     0.4168     0.9384        515        640: 100%|██████████| 14/14 [00:10<00:00,  1.27it/s]\n",
      "                 Class     Images  Instances      Box(P          R      mAP50  mAP50-95): 100%|██████████| 2/2 [00:02<00:00,  1.03s/it]"
     ]
    },
    {
     "name": "stdout",
     "output_type": "stream",
     "text": [
      "                   all         55       2373      0.953      0.897      0.953       0.74\n"
     ]
    },
    {
     "name": "stderr",
     "output_type": "stream",
     "text": [
      "\n"
     ]
    },
    {
     "name": "stdout",
     "output_type": "stream",
     "text": [
      "\n",
      "      Epoch    GPU_mem   box_loss   cls_loss   dfl_loss  Instances       Size\n"
     ]
    },
    {
     "name": "stderr",
     "output_type": "stream",
     "text": [
      "     51/150      11.4G     0.7856     0.4224     0.9267        673        640: 100%|██████████| 14/14 [00:07<00:00,  1.84it/s]\n",
      "                 Class     Images  Instances      Box(P          R      mAP50  mAP50-95): 100%|██████████| 2/2 [00:02<00:00,  1.00s/it]"
     ]
    },
    {
     "name": "stdout",
     "output_type": "stream",
     "text": [
      "                   all         55       2373      0.938      0.909      0.956      0.739\n"
     ]
    },
    {
     "name": "stderr",
     "output_type": "stream",
     "text": [
      "\n"
     ]
    },
    {
     "name": "stdout",
     "output_type": "stream",
     "text": [
      "\n",
      "      Epoch    GPU_mem   box_loss   cls_loss   dfl_loss  Instances       Size\n"
     ]
    },
    {
     "name": "stderr",
     "output_type": "stream",
     "text": [
      "     52/150      11.5G     0.7844     0.4234     0.9398        469        640: 100%|██████████| 14/14 [00:07<00:00,  1.92it/s]\n",
      "                 Class     Images  Instances      Box(P          R      mAP50  mAP50-95): 100%|██████████| 2/2 [00:02<00:00,  1.11s/it]"
     ]
    },
    {
     "name": "stdout",
     "output_type": "stream",
     "text": [
      "                   all         55       2373      0.955      0.891      0.956      0.741\n"
     ]
    },
    {
     "name": "stderr",
     "output_type": "stream",
     "text": [
      "\n"
     ]
    },
    {
     "name": "stdout",
     "output_type": "stream",
     "text": [
      "\n",
      "      Epoch    GPU_mem   box_loss   cls_loss   dfl_loss  Instances       Size\n"
     ]
    },
    {
     "name": "stderr",
     "output_type": "stream",
     "text": [
      "     53/150      11.6G      0.766     0.4107      0.934        601        640: 100%|██████████| 14/14 [00:08<00:00,  1.60it/s]\n",
      "                 Class     Images  Instances      Box(P          R      mAP50  mAP50-95): 100%|██████████| 2/2 [00:02<00:00,  1.12s/it]"
     ]
    },
    {
     "name": "stdout",
     "output_type": "stream",
     "text": [
      "                   all         55       2373      0.957      0.913      0.964      0.755\n"
     ]
    },
    {
     "name": "stderr",
     "output_type": "stream",
     "text": [
      "\n"
     ]
    },
    {
     "name": "stdout",
     "output_type": "stream",
     "text": [
      "\n",
      "      Epoch    GPU_mem   box_loss   cls_loss   dfl_loss  Instances       Size\n"
     ]
    },
    {
     "name": "stderr",
     "output_type": "stream",
     "text": [
      "     54/150      11.7G     0.7501     0.4047     0.9305        684        640: 100%|██████████| 14/14 [00:15<00:00,  1.12s/it]\n",
      "                 Class     Images  Instances      Box(P          R      mAP50  mAP50-95): 100%|██████████| 2/2 [00:02<00:00,  1.14s/it]"
     ]
    },
    {
     "name": "stdout",
     "output_type": "stream",
     "text": [
      "                   all         55       2373      0.952      0.903      0.957      0.746\n"
     ]
    },
    {
     "name": "stderr",
     "output_type": "stream",
     "text": [
      "\n"
     ]
    },
    {
     "name": "stdout",
     "output_type": "stream",
     "text": [
      "\n",
      "      Epoch    GPU_mem   box_loss   cls_loss   dfl_loss  Instances       Size\n"
     ]
    },
    {
     "name": "stderr",
     "output_type": "stream",
     "text": [
      "     55/150      11.7G     0.7724     0.4063     0.9311        705        640: 100%|██████████| 14/14 [00:16<00:00,  1.17s/it]\n",
      "                 Class     Images  Instances      Box(P          R      mAP50  mAP50-95): 100%|██████████| 2/2 [00:03<00:00,  1.80s/it]"
     ]
    },
    {
     "name": "stdout",
     "output_type": "stream",
     "text": [
      "                   all         55       2373      0.939      0.916      0.961      0.749\n"
     ]
    },
    {
     "name": "stderr",
     "output_type": "stream",
     "text": [
      "\n"
     ]
    },
    {
     "name": "stdout",
     "output_type": "stream",
     "text": [
      "\n",
      "      Epoch    GPU_mem   box_loss   cls_loss   dfl_loss  Instances       Size\n"
     ]
    },
    {
     "name": "stderr",
     "output_type": "stream",
     "text": [
      "     56/150      11.7G     0.7193     0.3987     0.9283        531        640: 100%|██████████| 14/14 [00:14<00:00,  1.02s/it]\n",
      "                 Class     Images  Instances      Box(P          R      mAP50  mAP50-95): 100%|██████████| 2/2 [00:02<00:00,  1.20s/it]"
     ]
    },
    {
     "name": "stdout",
     "output_type": "stream",
     "text": [
      "                   all         55       2373      0.952      0.912       0.96      0.758\n"
     ]
    },
    {
     "name": "stderr",
     "output_type": "stream",
     "text": [
      "\n"
     ]
    },
    {
     "name": "stdout",
     "output_type": "stream",
     "text": [
      "\n",
      "      Epoch    GPU_mem   box_loss   cls_loss   dfl_loss  Instances       Size\n"
     ]
    },
    {
     "name": "stderr",
     "output_type": "stream",
     "text": [
      "     57/150      11.5G     0.7318     0.3974     0.9195        602        640: 100%|██████████| 14/14 [00:09<00:00,  1.41it/s]\n",
      "                 Class     Images  Instances      Box(P          R      mAP50  mAP50-95): 100%|██████████| 2/2 [00:03<00:00,  1.85s/it]"
     ]
    },
    {
     "name": "stdout",
     "output_type": "stream",
     "text": [
      "                   all         55       2373      0.957      0.909       0.96      0.755\n"
     ]
    },
    {
     "name": "stderr",
     "output_type": "stream",
     "text": [
      "\n"
     ]
    },
    {
     "name": "stdout",
     "output_type": "stream",
     "text": [
      "\n",
      "      Epoch    GPU_mem   box_loss   cls_loss   dfl_loss  Instances       Size\n"
     ]
    },
    {
     "name": "stderr",
     "output_type": "stream",
     "text": [
      "     58/150      11.4G     0.7285     0.3956     0.9052        647        640: 100%|██████████| 14/14 [00:12<00:00,  1.15it/s]\n",
      "                 Class     Images  Instances      Box(P          R      mAP50  mAP50-95): 100%|██████████| 2/2 [00:02<00:00,  1.47s/it]"
     ]
    },
    {
     "name": "stdout",
     "output_type": "stream",
     "text": [
      "                   all         55       2373      0.952      0.919      0.965      0.761\n"
     ]
    },
    {
     "name": "stderr",
     "output_type": "stream",
     "text": [
      "\n"
     ]
    },
    {
     "name": "stdout",
     "output_type": "stream",
     "text": [
      "\n",
      "      Epoch    GPU_mem   box_loss   cls_loss   dfl_loss  Instances       Size\n"
     ]
    },
    {
     "name": "stderr",
     "output_type": "stream",
     "text": [
      "     59/150      11.3G      0.729     0.3923     0.9194        740        640: 100%|██████████| 14/14 [00:15<00:00,  1.11s/it]\n",
      "                 Class     Images  Instances      Box(P          R      mAP50  mAP50-95): 100%|██████████| 2/2 [00:02<00:00,  1.40s/it]"
     ]
    },
    {
     "name": "stdout",
     "output_type": "stream",
     "text": [
      "                   all         55       2373      0.954      0.916      0.963      0.756\n"
     ]
    },
    {
     "name": "stderr",
     "output_type": "stream",
     "text": [
      "\n"
     ]
    },
    {
     "name": "stdout",
     "output_type": "stream",
     "text": [
      "\n",
      "      Epoch    GPU_mem   box_loss   cls_loss   dfl_loss  Instances       Size\n"
     ]
    },
    {
     "name": "stderr",
     "output_type": "stream",
     "text": [
      "     60/150      11.5G     0.7382     0.3962     0.9075        744        640: 100%|██████████| 14/14 [00:10<00:00,  1.33it/s]\n",
      "                 Class     Images  Instances      Box(P          R      mAP50  mAP50-95): 100%|██████████| 2/2 [00:02<00:00,  1.16s/it]"
     ]
    },
    {
     "name": "stdout",
     "output_type": "stream",
     "text": [
      "                   all         55       2373      0.946      0.915      0.964      0.751\n"
     ]
    },
    {
     "name": "stderr",
     "output_type": "stream",
     "text": [
      "\n"
     ]
    },
    {
     "name": "stdout",
     "output_type": "stream",
     "text": [
      "\n",
      "      Epoch    GPU_mem   box_loss   cls_loss   dfl_loss  Instances       Size\n"
     ]
    },
    {
     "name": "stderr",
     "output_type": "stream",
     "text": [
      "     61/150      11.6G      0.717     0.3886     0.9186        666        640: 100%|██████████| 14/14 [00:13<00:00,  1.03it/s]\n",
      "                 Class     Images  Instances      Box(P          R      mAP50  mAP50-95): 100%|██████████| 2/2 [00:02<00:00,  1.23s/it]"
     ]
    },
    {
     "name": "stdout",
     "output_type": "stream",
     "text": [
      "                   all         55       2373      0.945       0.92      0.963       0.76\n"
     ]
    },
    {
     "name": "stderr",
     "output_type": "stream",
     "text": [
      "\n"
     ]
    },
    {
     "name": "stdout",
     "output_type": "stream",
     "text": [
      "\n",
      "      Epoch    GPU_mem   box_loss   cls_loss   dfl_loss  Instances       Size\n"
     ]
    },
    {
     "name": "stderr",
     "output_type": "stream",
     "text": [
      "     62/150      11.6G     0.7655     0.3993     0.9237        680        640: 100%|██████████| 14/14 [00:18<00:00,  1.34s/it]\n",
      "                 Class     Images  Instances      Box(P          R      mAP50  mAP50-95): 100%|██████████| 2/2 [00:03<00:00,  1.99s/it]"
     ]
    },
    {
     "name": "stdout",
     "output_type": "stream",
     "text": [
      "                   all         55       2373      0.963      0.913      0.968      0.763\n"
     ]
    },
    {
     "name": "stderr",
     "output_type": "stream",
     "text": [
      "\n"
     ]
    },
    {
     "name": "stdout",
     "output_type": "stream",
     "text": [
      "\n",
      "      Epoch    GPU_mem   box_loss   cls_loss   dfl_loss  Instances       Size\n"
     ]
    },
    {
     "name": "stderr",
     "output_type": "stream",
     "text": [
      "     63/150      11.7G     0.7392     0.3877     0.9106        638        640: 100%|██████████| 14/14 [00:26<00:00,  1.91s/it]\n",
      "                 Class     Images  Instances      Box(P          R      mAP50  mAP50-95): 100%|██████████| 2/2 [00:08<00:00,  4.11s/it]"
     ]
    },
    {
     "name": "stdout",
     "output_type": "stream",
     "text": [
      "                   all         55       2373      0.959      0.905      0.964      0.767\n"
     ]
    },
    {
     "name": "stderr",
     "output_type": "stream",
     "text": [
      "\n"
     ]
    },
    {
     "name": "stdout",
     "output_type": "stream",
     "text": [
      "\n",
      "      Epoch    GPU_mem   box_loss   cls_loss   dfl_loss  Instances       Size\n"
     ]
    },
    {
     "name": "stderr",
     "output_type": "stream",
     "text": [
      "     64/150      11.7G     0.7421     0.3935     0.9223        725        640: 100%|██████████| 14/14 [00:25<00:00,  1.85s/it]\n",
      "                 Class     Images  Instances      Box(P          R      mAP50  mAP50-95): 100%|██████████| 2/2 [00:02<00:00,  1.12s/it]"
     ]
    },
    {
     "name": "stdout",
     "output_type": "stream",
     "text": [
      "                   all         55       2373      0.954      0.919      0.967      0.766\n"
     ]
    },
    {
     "name": "stderr",
     "output_type": "stream",
     "text": [
      "\n"
     ]
    },
    {
     "name": "stdout",
     "output_type": "stream",
     "text": [
      "\n",
      "      Epoch    GPU_mem   box_loss   cls_loss   dfl_loss  Instances       Size\n"
     ]
    },
    {
     "name": "stderr",
     "output_type": "stream",
     "text": [
      "     65/150      11.6G     0.7215     0.3843     0.9083        711        640: 100%|██████████| 14/14 [00:07<00:00,  1.84it/s]\n",
      "                 Class     Images  Instances      Box(P          R      mAP50  mAP50-95): 100%|██████████| 2/2 [00:02<00:00,  1.09s/it]"
     ]
    },
    {
     "name": "stdout",
     "output_type": "stream",
     "text": [
      "                   all         55       2373       0.96      0.909      0.963       0.76\n"
     ]
    },
    {
     "name": "stderr",
     "output_type": "stream",
     "text": [
      "\n"
     ]
    },
    {
     "name": "stdout",
     "output_type": "stream",
     "text": [
      "\n",
      "      Epoch    GPU_mem   box_loss   cls_loss   dfl_loss  Instances       Size\n"
     ]
    },
    {
     "name": "stderr",
     "output_type": "stream",
     "text": [
      "     66/150      11.5G     0.7016     0.3752     0.9098        788        640: 100%|██████████| 14/14 [00:11<00:00,  1.18it/s]\n",
      "                 Class     Images  Instances      Box(P          R      mAP50  mAP50-95): 100%|██████████| 2/2 [00:02<00:00,  1.28s/it]"
     ]
    },
    {
     "name": "stdout",
     "output_type": "stream",
     "text": [
      "                   all         55       2373      0.949      0.923      0.966      0.762\n"
     ]
    },
    {
     "name": "stderr",
     "output_type": "stream",
     "text": [
      "\n"
     ]
    },
    {
     "name": "stdout",
     "output_type": "stream",
     "text": [
      "\n",
      "      Epoch    GPU_mem   box_loss   cls_loss   dfl_loss  Instances       Size\n"
     ]
    },
    {
     "name": "stderr",
     "output_type": "stream",
     "text": [
      "     67/150      11.5G     0.7077     0.3776      0.917        711        640: 100%|██████████| 14/14 [00:16<00:00,  1.21s/it]\n",
      "                 Class     Images  Instances      Box(P          R      mAP50  mAP50-95): 100%|██████████| 2/2 [00:02<00:00,  1.42s/it]"
     ]
    },
    {
     "name": "stdout",
     "output_type": "stream",
     "text": [
      "                   all         55       2373      0.948      0.915      0.964      0.767\n"
     ]
    },
    {
     "name": "stderr",
     "output_type": "stream",
     "text": [
      "\n"
     ]
    },
    {
     "name": "stdout",
     "output_type": "stream",
     "text": [
      "\n",
      "      Epoch    GPU_mem   box_loss   cls_loss   dfl_loss  Instances       Size\n"
     ]
    },
    {
     "name": "stderr",
     "output_type": "stream",
     "text": [
      "     68/150      11.8G     0.7256     0.3836     0.9207        595        640: 100%|██████████| 14/14 [00:17<00:00,  1.22s/it]\n",
      "                 Class     Images  Instances      Box(P          R      mAP50  mAP50-95): 100%|██████████| 2/2 [00:02<00:00,  1.42s/it]"
     ]
    },
    {
     "name": "stdout",
     "output_type": "stream",
     "text": [
      "                   all         55       2373      0.938      0.901      0.952      0.755\n"
     ]
    },
    {
     "name": "stderr",
     "output_type": "stream",
     "text": [
      "\n"
     ]
    },
    {
     "name": "stdout",
     "output_type": "stream",
     "text": [
      "\n",
      "      Epoch    GPU_mem   box_loss   cls_loss   dfl_loss  Instances       Size\n"
     ]
    },
    {
     "name": "stderr",
     "output_type": "stream",
     "text": [
      "     69/150      11.4G     0.7008     0.3797     0.9166        569        640: 100%|██████████| 14/14 [00:15<00:00,  1.09s/it]\n",
      "                 Class     Images  Instances      Box(P          R      mAP50  mAP50-95): 100%|██████████| 2/2 [00:02<00:00,  1.24s/it]"
     ]
    },
    {
     "name": "stdout",
     "output_type": "stream",
     "text": [
      "                   all         55       2373      0.956      0.912      0.962      0.767\n"
     ]
    },
    {
     "name": "stderr",
     "output_type": "stream",
     "text": [
      "\n"
     ]
    },
    {
     "name": "stdout",
     "output_type": "stream",
     "text": [
      "\n",
      "      Epoch    GPU_mem   box_loss   cls_loss   dfl_loss  Instances       Size\n"
     ]
    },
    {
     "name": "stderr",
     "output_type": "stream",
     "text": [
      "     70/150      11.3G      0.738     0.3935      0.911        642        640: 100%|██████████| 14/14 [00:09<00:00,  1.51it/s]\n",
      "                 Class     Images  Instances      Box(P          R      mAP50  mAP50-95): 100%|██████████| 2/2 [00:03<00:00,  1.86s/it]"
     ]
    },
    {
     "name": "stdout",
     "output_type": "stream",
     "text": [
      "                   all         55       2373      0.944      0.903      0.955      0.753\n"
     ]
    },
    {
     "name": "stderr",
     "output_type": "stream",
     "text": [
      "\n"
     ]
    },
    {
     "name": "stdout",
     "output_type": "stream",
     "text": [
      "\n",
      "      Epoch    GPU_mem   box_loss   cls_loss   dfl_loss  Instances       Size\n"
     ]
    },
    {
     "name": "stderr",
     "output_type": "stream",
     "text": [
      "     71/150      11.3G     0.7478     0.3921     0.9152        508        640: 100%|██████████| 14/14 [00:17<00:00,  1.22s/it]\n",
      "                 Class     Images  Instances      Box(P          R      mAP50  mAP50-95): 100%|██████████| 2/2 [00:04<00:00,  2.18s/it]"
     ]
    },
    {
     "name": "stdout",
     "output_type": "stream",
     "text": [
      "                   all         55       2373      0.961       0.88      0.951       0.75\n"
     ]
    },
    {
     "name": "stderr",
     "output_type": "stream",
     "text": [
      "\n"
     ]
    },
    {
     "name": "stdout",
     "output_type": "stream",
     "text": [
      "\n",
      "      Epoch    GPU_mem   box_loss   cls_loss   dfl_loss  Instances       Size\n"
     ]
    },
    {
     "name": "stderr",
     "output_type": "stream",
     "text": [
      "     72/150      11.4G     0.6982     0.3789     0.9166        860        640: 100%|██████████| 14/14 [00:20<00:00,  1.48s/it]\n",
      "                 Class     Images  Instances      Box(P          R      mAP50  mAP50-95): 100%|██████████| 2/2 [00:17<00:00,  8.82s/it]"
     ]
    },
    {
     "name": "stdout",
     "output_type": "stream",
     "text": [
      "                   all         55       2373      0.959      0.908      0.964      0.757\n"
     ]
    },
    {
     "name": "stderr",
     "output_type": "stream",
     "text": [
      "\n"
     ]
    },
    {
     "name": "stdout",
     "output_type": "stream",
     "text": [
      "\n",
      "      Epoch    GPU_mem   box_loss   cls_loss   dfl_loss  Instances       Size\n"
     ]
    },
    {
     "name": "stderr",
     "output_type": "stream",
     "text": [
      "     73/150      11.4G        0.7     0.3755     0.9021        955        640: 100%|██████████| 14/14 [00:46<00:00,  3.30s/it]\n",
      "                 Class     Images  Instances      Box(P          R      mAP50  mAP50-95): 100%|██████████| 2/2 [00:03<00:00,  1.61s/it]"
     ]
    },
    {
     "name": "stdout",
     "output_type": "stream",
     "text": [
      "                   all         55       2373       0.96      0.914      0.968      0.766\n"
     ]
    },
    {
     "name": "stderr",
     "output_type": "stream",
     "text": [
      "\n"
     ]
    },
    {
     "name": "stdout",
     "output_type": "stream",
     "text": [
      "\n",
      "      Epoch    GPU_mem   box_loss   cls_loss   dfl_loss  Instances       Size\n"
     ]
    },
    {
     "name": "stderr",
     "output_type": "stream",
     "text": [
      "     74/150      11.7G      0.701     0.3753     0.9039        780        640: 100%|██████████| 14/14 [00:16<00:00,  1.20s/it]\n",
      "                 Class     Images  Instances      Box(P          R      mAP50  mAP50-95): 100%|██████████| 2/2 [00:03<00:00,  1.51s/it]"
     ]
    },
    {
     "name": "stdout",
     "output_type": "stream",
     "text": [
      "                   all         55       2373      0.953      0.919      0.965      0.766\n"
     ]
    },
    {
     "name": "stderr",
     "output_type": "stream",
     "text": [
      "\n"
     ]
    },
    {
     "name": "stdout",
     "output_type": "stream",
     "text": [
      "\n",
      "      Epoch    GPU_mem   box_loss   cls_loss   dfl_loss  Instances       Size\n"
     ]
    },
    {
     "name": "stderr",
     "output_type": "stream",
     "text": [
      "     75/150      11.6G     0.7493     0.3942     0.9185        642        640: 100%|██████████| 14/14 [00:17<00:00,  1.28s/it]\n",
      "                 Class     Images  Instances      Box(P          R      mAP50  mAP50-95): 100%|██████████| 2/2 [00:02<00:00,  1.38s/it]"
     ]
    },
    {
     "name": "stdout",
     "output_type": "stream",
     "text": [
      "                   all         55       2373      0.956      0.926      0.966      0.769\n"
     ]
    },
    {
     "name": "stderr",
     "output_type": "stream",
     "text": [
      "\n"
     ]
    },
    {
     "name": "stdout",
     "output_type": "stream",
     "text": [
      "\n",
      "      Epoch    GPU_mem   box_loss   cls_loss   dfl_loss  Instances       Size\n"
     ]
    },
    {
     "name": "stderr",
     "output_type": "stream",
     "text": [
      "     76/150      11.5G     0.7038      0.371     0.9099        790        640: 100%|██████████| 14/14 [00:15<00:00,  1.10s/it]\n",
      "                 Class     Images  Instances      Box(P          R      mAP50  mAP50-95): 100%|██████████| 2/2 [00:02<00:00,  1.38s/it]"
     ]
    },
    {
     "name": "stdout",
     "output_type": "stream",
     "text": [
      "                   all         55       2373      0.947      0.931      0.965      0.773\n"
     ]
    },
    {
     "name": "stderr",
     "output_type": "stream",
     "text": [
      "\n"
     ]
    },
    {
     "name": "stdout",
     "output_type": "stream",
     "text": [
      "\n",
      "      Epoch    GPU_mem   box_loss   cls_loss   dfl_loss  Instances       Size\n"
     ]
    },
    {
     "name": "stderr",
     "output_type": "stream",
     "text": [
      "     77/150      11.9G     0.6921     0.3611     0.8974        605        640: 100%|██████████| 14/14 [00:19<00:00,  1.39s/it]\n",
      "                 Class     Images  Instances      Box(P          R      mAP50  mAP50-95): 100%|██████████| 2/2 [00:05<00:00,  2.74s/it]"
     ]
    },
    {
     "name": "stdout",
     "output_type": "stream",
     "text": [
      "                   all         55       2373      0.966      0.911      0.965      0.777\n"
     ]
    },
    {
     "name": "stderr",
     "output_type": "stream",
     "text": [
      "\n"
     ]
    },
    {
     "name": "stdout",
     "output_type": "stream",
     "text": [
      "\n",
      "      Epoch    GPU_mem   box_loss   cls_loss   dfl_loss  Instances       Size\n"
     ]
    },
    {
     "name": "stderr",
     "output_type": "stream",
     "text": [
      "     78/150      11.6G     0.7112     0.3742     0.9043        660        640: 100%|██████████| 14/14 [00:25<00:00,  1.83s/it]\n",
      "                 Class     Images  Instances      Box(P          R      mAP50  mAP50-95): 100%|██████████| 2/2 [00:04<00:00,  2.29s/it]"
     ]
    },
    {
     "name": "stdout",
     "output_type": "stream",
     "text": [
      "                   all         55       2373      0.958       0.91      0.964      0.768\n"
     ]
    },
    {
     "name": "stderr",
     "output_type": "stream",
     "text": [
      "\n"
     ]
    },
    {
     "name": "stdout",
     "output_type": "stream",
     "text": [
      "\n",
      "      Epoch    GPU_mem   box_loss   cls_loss   dfl_loss  Instances       Size\n"
     ]
    },
    {
     "name": "stderr",
     "output_type": "stream",
     "text": [
      "     79/150      11.4G     0.7204     0.3793     0.9067        671        640: 100%|██████████| 14/14 [00:13<00:00,  1.06it/s]\n",
      "                 Class     Images  Instances      Box(P          R      mAP50  mAP50-95): 100%|██████████| 2/2 [00:08<00:00,  4.22s/it]"
     ]
    },
    {
     "name": "stdout",
     "output_type": "stream",
     "text": [
      "                   all         55       2373      0.961      0.917      0.968      0.774\n"
     ]
    },
    {
     "name": "stderr",
     "output_type": "stream",
     "text": [
      "\n"
     ]
    },
    {
     "name": "stdout",
     "output_type": "stream",
     "text": [
      "\n",
      "      Epoch    GPU_mem   box_loss   cls_loss   dfl_loss  Instances       Size\n"
     ]
    },
    {
     "name": "stderr",
     "output_type": "stream",
     "text": [
      "     80/150      11.6G     0.7418      0.386     0.9084        581        640: 100%|██████████| 14/14 [00:17<00:00,  1.28s/it]\n",
      "                 Class     Images  Instances      Box(P          R      mAP50  mAP50-95): 100%|██████████| 2/2 [00:02<00:00,  1.33s/it]"
     ]
    },
    {
     "name": "stdout",
     "output_type": "stream",
     "text": [
      "                   all         55       2373      0.953      0.915      0.967      0.781\n"
     ]
    },
    {
     "name": "stderr",
     "output_type": "stream",
     "text": [
      "\n"
     ]
    },
    {
     "name": "stdout",
     "output_type": "stream",
     "text": [
      "\n",
      "      Epoch    GPU_mem   box_loss   cls_loss   dfl_loss  Instances       Size\n"
     ]
    },
    {
     "name": "stderr",
     "output_type": "stream",
     "text": [
      "     81/150      11.7G     0.6862     0.3652     0.9077        669        640: 100%|██████████| 14/14 [00:14<00:00,  1.02s/it]\n",
      "                 Class     Images  Instances      Box(P          R      mAP50  mAP50-95): 100%|██████████| 2/2 [00:02<00:00,  1.22s/it]"
     ]
    },
    {
     "name": "stdout",
     "output_type": "stream",
     "text": [
      "                   all         55       2373      0.949      0.922      0.966      0.773\n"
     ]
    },
    {
     "name": "stderr",
     "output_type": "stream",
     "text": [
      "\n"
     ]
    },
    {
     "name": "stdout",
     "output_type": "stream",
     "text": [
      "\n",
      "      Epoch    GPU_mem   box_loss   cls_loss   dfl_loss  Instances       Size\n"
     ]
    },
    {
     "name": "stderr",
     "output_type": "stream",
     "text": [
      "     82/150      11.5G     0.6657     0.3542     0.9043        484        640: 100%|██████████| 14/14 [00:10<00:00,  1.32it/s]\n",
      "                 Class     Images  Instances      Box(P          R      mAP50  mAP50-95): 100%|██████████| 2/2 [00:02<00:00,  1.22s/it]"
     ]
    },
    {
     "name": "stdout",
     "output_type": "stream",
     "text": [
      "                   all         55       2373      0.953      0.925      0.968      0.777\n"
     ]
    },
    {
     "name": "stderr",
     "output_type": "stream",
     "text": [
      "\n"
     ]
    },
    {
     "name": "stdout",
     "output_type": "stream",
     "text": [
      "\n",
      "      Epoch    GPU_mem   box_loss   cls_loss   dfl_loss  Instances       Size\n"
     ]
    },
    {
     "name": "stderr",
     "output_type": "stream",
     "text": [
      "     83/150      11.4G     0.7194     0.3755     0.9149        523        640: 100%|██████████| 14/14 [00:17<00:00,  1.25s/it]\n",
      "                 Class     Images  Instances      Box(P          R      mAP50  mAP50-95): 100%|██████████| 2/2 [00:02<00:00,  1.28s/it]"
     ]
    },
    {
     "name": "stdout",
     "output_type": "stream",
     "text": [
      "                   all         55       2373      0.965      0.918      0.967      0.776\n"
     ]
    },
    {
     "name": "stderr",
     "output_type": "stream",
     "text": [
      "\n"
     ]
    },
    {
     "name": "stdout",
     "output_type": "stream",
     "text": [
      "\n",
      "      Epoch    GPU_mem   box_loss   cls_loss   dfl_loss  Instances       Size\n"
     ]
    },
    {
     "name": "stderr",
     "output_type": "stream",
     "text": [
      "     84/150      11.6G     0.6948     0.3661     0.9081        764        640: 100%|██████████| 14/14 [00:19<00:00,  1.36s/it]\n",
      "                 Class     Images  Instances      Box(P          R      mAP50  mAP50-95): 100%|██████████| 2/2 [00:02<00:00,  1.32s/it]"
     ]
    },
    {
     "name": "stdout",
     "output_type": "stream",
     "text": [
      "                   all         55       2373      0.952      0.928      0.965      0.769\n"
     ]
    },
    {
     "name": "stderr",
     "output_type": "stream",
     "text": [
      "\n"
     ]
    },
    {
     "name": "stdout",
     "output_type": "stream",
     "text": [
      "\n",
      "      Epoch    GPU_mem   box_loss   cls_loss   dfl_loss  Instances       Size\n"
     ]
    },
    {
     "name": "stderr",
     "output_type": "stream",
     "text": [
      "     85/150      11.7G      0.705     0.3735     0.9143        476        640: 100%|██████████| 14/14 [00:17<00:00,  1.26s/it]\n",
      "                 Class     Images  Instances      Box(P          R      mAP50  mAP50-95): 100%|██████████| 2/2 [00:02<00:00,  1.19s/it]"
     ]
    },
    {
     "name": "stdout",
     "output_type": "stream",
     "text": [
      "                   all         55       2373      0.949      0.925      0.964      0.768\n"
     ]
    },
    {
     "name": "stderr",
     "output_type": "stream",
     "text": [
      "\n"
     ]
    },
    {
     "name": "stdout",
     "output_type": "stream",
     "text": [
      "\n",
      "      Epoch    GPU_mem   box_loss   cls_loss   dfl_loss  Instances       Size\n"
     ]
    },
    {
     "name": "stderr",
     "output_type": "stream",
     "text": [
      "     86/150      11.7G     0.7102     0.3729     0.9075        634        640: 100%|██████████| 14/14 [00:19<00:00,  1.36s/it]\n",
      "                 Class     Images  Instances      Box(P          R      mAP50  mAP50-95): 100%|██████████| 2/2 [00:04<00:00,  2.26s/it]"
     ]
    },
    {
     "name": "stdout",
     "output_type": "stream",
     "text": [
      "                   all         55       2373      0.967      0.922      0.971      0.769\n"
     ]
    },
    {
     "name": "stderr",
     "output_type": "stream",
     "text": [
      "\n"
     ]
    },
    {
     "name": "stdout",
     "output_type": "stream",
     "text": [
      "\n",
      "      Epoch    GPU_mem   box_loss   cls_loss   dfl_loss  Instances       Size\n"
     ]
    },
    {
     "name": "stderr",
     "output_type": "stream",
     "text": [
      "     87/150      11.4G     0.6959     0.3683     0.8998        593        640: 100%|██████████| 14/14 [00:20<00:00,  1.44s/it]\n",
      "                 Class     Images  Instances      Box(P          R      mAP50  mAP50-95): 100%|██████████| 2/2 [00:03<00:00,  1.54s/it]"
     ]
    },
    {
     "name": "stdout",
     "output_type": "stream",
     "text": [
      "                   all         55       2373      0.958      0.936      0.975      0.777\n"
     ]
    },
    {
     "name": "stderr",
     "output_type": "stream",
     "text": [
      "\n"
     ]
    },
    {
     "name": "stdout",
     "output_type": "stream",
     "text": [
      "\n",
      "      Epoch    GPU_mem   box_loss   cls_loss   dfl_loss  Instances       Size\n"
     ]
    },
    {
     "name": "stderr",
     "output_type": "stream",
     "text": [
      "     88/150      11.5G     0.7033     0.3697     0.9039        745        640: 100%|██████████| 14/14 [00:19<00:00,  1.39s/it]\n",
      "                 Class     Images  Instances      Box(P          R      mAP50  mAP50-95): 100%|██████████| 2/2 [00:06<00:00,  3.28s/it]"
     ]
    },
    {
     "name": "stdout",
     "output_type": "stream",
     "text": [
      "                   all         55       2373      0.962      0.922      0.969      0.776\n"
     ]
    },
    {
     "name": "stderr",
     "output_type": "stream",
     "text": [
      "\n"
     ]
    },
    {
     "name": "stdout",
     "output_type": "stream",
     "text": [
      "\n",
      "      Epoch    GPU_mem   box_loss   cls_loss   dfl_loss  Instances       Size\n"
     ]
    },
    {
     "name": "stderr",
     "output_type": "stream",
     "text": [
      "     89/150      11.4G     0.7016     0.3694     0.9085        703        640: 100%|██████████| 14/14 [00:17<00:00,  1.27s/it]\n",
      "                 Class     Images  Instances      Box(P          R      mAP50  mAP50-95): 100%|██████████| 2/2 [00:01<00:00,  1.40it/s]"
     ]
    },
    {
     "name": "stdout",
     "output_type": "stream",
     "text": [
      "                   all         55       2373      0.961      0.925      0.971      0.784\n"
     ]
    },
    {
     "name": "stderr",
     "output_type": "stream",
     "text": [
      "\n"
     ]
    },
    {
     "name": "stdout",
     "output_type": "stream",
     "text": [
      "\n",
      "      Epoch    GPU_mem   box_loss   cls_loss   dfl_loss  Instances       Size\n"
     ]
    },
    {
     "name": "stderr",
     "output_type": "stream",
     "text": [
      "     90/150      11.7G      0.677      0.359     0.8884        604        640: 100%|██████████| 14/14 [00:13<00:00,  1.05it/s]\n",
      "                 Class     Images  Instances      Box(P          R      mAP50  mAP50-95): 100%|██████████| 2/2 [00:02<00:00,  1.49s/it]"
     ]
    },
    {
     "name": "stdout",
     "output_type": "stream",
     "text": [
      "                   all         55       2373      0.971      0.918      0.972      0.783\n"
     ]
    },
    {
     "name": "stderr",
     "output_type": "stream",
     "text": [
      "\n"
     ]
    },
    {
     "name": "stdout",
     "output_type": "stream",
     "text": [
      "\n",
      "      Epoch    GPU_mem   box_loss   cls_loss   dfl_loss  Instances       Size\n"
     ]
    },
    {
     "name": "stderr",
     "output_type": "stream",
     "text": [
      "     91/150      11.3G     0.6477      0.347     0.8906        545        640: 100%|██████████| 14/14 [00:13<00:00,  1.06it/s]\n",
      "                 Class     Images  Instances      Box(P          R      mAP50  mAP50-95): 100%|██████████| 2/2 [00:02<00:00,  1.01s/it]"
     ]
    },
    {
     "name": "stdout",
     "output_type": "stream",
     "text": [
      "                   all         55       2373      0.964      0.926      0.971       0.78\n"
     ]
    },
    {
     "name": "stderr",
     "output_type": "stream",
     "text": [
      "\n"
     ]
    },
    {
     "name": "stdout",
     "output_type": "stream",
     "text": [
      "\n",
      "      Epoch    GPU_mem   box_loss   cls_loss   dfl_loss  Instances       Size\n"
     ]
    },
    {
     "name": "stderr",
     "output_type": "stream",
     "text": [
      "     92/150      11.7G      0.686     0.3592     0.8999        568        640: 100%|██████████| 14/14 [00:26<00:00,  1.90s/it]\n",
      "                 Class     Images  Instances      Box(P          R      mAP50  mAP50-95): 100%|██████████| 2/2 [00:02<00:00,  1.19s/it]"
     ]
    },
    {
     "name": "stdout",
     "output_type": "stream",
     "text": [
      "                   all         55       2373       0.97       0.92      0.972      0.785\n"
     ]
    },
    {
     "name": "stderr",
     "output_type": "stream",
     "text": [
      "\n"
     ]
    },
    {
     "name": "stdout",
     "output_type": "stream",
     "text": [
      "\n",
      "      Epoch    GPU_mem   box_loss   cls_loss   dfl_loss  Instances       Size\n"
     ]
    },
    {
     "name": "stderr",
     "output_type": "stream",
     "text": [
      "     93/150      11.4G     0.6559     0.3453     0.8906        611        640: 100%|██████████| 14/14 [00:21<00:00,  1.54s/it]\n",
      "                 Class     Images  Instances      Box(P          R      mAP50  mAP50-95): 100%|██████████| 2/2 [00:02<00:00,  1.12s/it]"
     ]
    },
    {
     "name": "stdout",
     "output_type": "stream",
     "text": [
      "                   all         55       2373      0.964      0.923      0.969      0.778\n"
     ]
    },
    {
     "name": "stderr",
     "output_type": "stream",
     "text": [
      "\n"
     ]
    },
    {
     "name": "stdout",
     "output_type": "stream",
     "text": [
      "\n",
      "      Epoch    GPU_mem   box_loss   cls_loss   dfl_loss  Instances       Size\n"
     ]
    },
    {
     "name": "stderr",
     "output_type": "stream",
     "text": [
      "     94/150      11.4G     0.6486     0.3408     0.8904        754        640: 100%|██████████| 14/14 [00:21<00:00,  1.52s/it]\n",
      "                 Class     Images  Instances      Box(P          R      mAP50  mAP50-95): 100%|██████████| 2/2 [00:03<00:00,  1.86s/it]"
     ]
    },
    {
     "name": "stdout",
     "output_type": "stream",
     "text": [
      "                   all         55       2373      0.973      0.907       0.97      0.781\n"
     ]
    },
    {
     "name": "stderr",
     "output_type": "stream",
     "text": [
      "\n"
     ]
    },
    {
     "name": "stdout",
     "output_type": "stream",
     "text": [
      "\n",
      "      Epoch    GPU_mem   box_loss   cls_loss   dfl_loss  Instances       Size\n"
     ]
    },
    {
     "name": "stderr",
     "output_type": "stream",
     "text": [
      "     95/150      11.6G     0.6596      0.344     0.8914        741        640: 100%|██████████| 14/14 [00:34<00:00,  2.44s/it]\n",
      "                 Class     Images  Instances      Box(P          R      mAP50  mAP50-95): 100%|██████████| 2/2 [00:05<00:00,  2.90s/it]"
     ]
    },
    {
     "name": "stdout",
     "output_type": "stream",
     "text": [
      "                   all         55       2373      0.963      0.913      0.968      0.783\n"
     ]
    },
    {
     "name": "stderr",
     "output_type": "stream",
     "text": [
      "\n"
     ]
    },
    {
     "name": "stdout",
     "output_type": "stream",
     "text": [
      "\n",
      "      Epoch    GPU_mem   box_loss   cls_loss   dfl_loss  Instances       Size\n"
     ]
    },
    {
     "name": "stderr",
     "output_type": "stream",
     "text": [
      "     96/150      11.7G     0.6605     0.3465     0.8892        631        640: 100%|██████████| 14/14 [00:18<00:00,  1.34s/it]\n",
      "                 Class     Images  Instances      Box(P          R      mAP50  mAP50-95): 100%|██████████| 2/2 [00:03<00:00,  1.62s/it]"
     ]
    },
    {
     "name": "stdout",
     "output_type": "stream",
     "text": [
      "                   all         55       2373      0.962      0.923      0.971      0.787\n"
     ]
    },
    {
     "name": "stderr",
     "output_type": "stream",
     "text": [
      "\n"
     ]
    },
    {
     "name": "stdout",
     "output_type": "stream",
     "text": [
      "\n",
      "      Epoch    GPU_mem   box_loss   cls_loss   dfl_loss  Instances       Size\n"
     ]
    },
    {
     "name": "stderr",
     "output_type": "stream",
     "text": [
      "     97/150      11.3G     0.6682     0.3537     0.8892        451        640: 100%|██████████| 14/14 [00:07<00:00,  1.96it/s]\n",
      "                 Class     Images  Instances      Box(P          R      mAP50  mAP50-95): 100%|██████████| 2/2 [00:01<00:00,  1.04it/s]"
     ]
    },
    {
     "name": "stdout",
     "output_type": "stream",
     "text": [
      "                   all         55       2373      0.954      0.933      0.972      0.785\n"
     ]
    },
    {
     "name": "stderr",
     "output_type": "stream",
     "text": [
      "\n"
     ]
    },
    {
     "name": "stdout",
     "output_type": "stream",
     "text": [
      "\n",
      "      Epoch    GPU_mem   box_loss   cls_loss   dfl_loss  Instances       Size\n"
     ]
    },
    {
     "name": "stderr",
     "output_type": "stream",
     "text": [
      "     98/150      11.7G     0.6736     0.3485     0.8908        504        640: 100%|██████████| 14/14 [00:11<00:00,  1.20it/s]\n",
      "                 Class     Images  Instances      Box(P          R      mAP50  mAP50-95): 100%|██████████| 2/2 [00:02<00:00,  1.08s/it]"
     ]
    },
    {
     "name": "stdout",
     "output_type": "stream",
     "text": [
      "                   all         55       2373      0.953      0.924      0.966      0.781\n"
     ]
    },
    {
     "name": "stderr",
     "output_type": "stream",
     "text": [
      "\n"
     ]
    },
    {
     "name": "stdout",
     "output_type": "stream",
     "text": [
      "\n",
      "      Epoch    GPU_mem   box_loss   cls_loss   dfl_loss  Instances       Size\n"
     ]
    },
    {
     "name": "stderr",
     "output_type": "stream",
     "text": [
      "     99/150      11.5G     0.6462     0.3376     0.8785        579        640: 100%|██████████| 14/14 [00:08<00:00,  1.66it/s]\n",
      "                 Class     Images  Instances      Box(P          R      mAP50  mAP50-95): 100%|██████████| 2/2 [00:02<00:00,  1.07s/it]"
     ]
    },
    {
     "name": "stdout",
     "output_type": "stream",
     "text": [
      "                   all         55       2373      0.962      0.929      0.968       0.78\n"
     ]
    },
    {
     "name": "stderr",
     "output_type": "stream",
     "text": [
      "\n"
     ]
    },
    {
     "name": "stdout",
     "output_type": "stream",
     "text": [
      "\n",
      "      Epoch    GPU_mem   box_loss   cls_loss   dfl_loss  Instances       Size\n"
     ]
    },
    {
     "name": "stderr",
     "output_type": "stream",
     "text": [
      "    100/150      11.5G     0.6464     0.3395     0.8933        462        640: 100%|██████████| 14/14 [00:12<00:00,  1.12it/s]\n",
      "                 Class     Images  Instances      Box(P          R      mAP50  mAP50-95): 100%|██████████| 2/2 [00:02<00:00,  1.27s/it]"
     ]
    },
    {
     "name": "stdout",
     "output_type": "stream",
     "text": [
      "                   all         55       2373      0.966       0.92      0.969      0.778\n"
     ]
    },
    {
     "name": "stderr",
     "output_type": "stream",
     "text": [
      "\n"
     ]
    },
    {
     "name": "stdout",
     "output_type": "stream",
     "text": [
      "\n",
      "      Epoch    GPU_mem   box_loss   cls_loss   dfl_loss  Instances       Size\n"
     ]
    },
    {
     "name": "stderr",
     "output_type": "stream",
     "text": [
      "    101/150      11.6G     0.6383     0.3284     0.8806        658        640: 100%|██████████| 14/14 [00:11<00:00,  1.21it/s]\n",
      "                 Class     Images  Instances      Box(P          R      mAP50  mAP50-95): 100%|██████████| 2/2 [00:02<00:00,  1.47s/it]"
     ]
    },
    {
     "name": "stdout",
     "output_type": "stream",
     "text": [
      "                   all         55       2373      0.961      0.923      0.968      0.781\n"
     ]
    },
    {
     "name": "stderr",
     "output_type": "stream",
     "text": [
      "\n"
     ]
    },
    {
     "name": "stdout",
     "output_type": "stream",
     "text": [
      "\n",
      "      Epoch    GPU_mem   box_loss   cls_loss   dfl_loss  Instances       Size\n"
     ]
    },
    {
     "name": "stderr",
     "output_type": "stream",
     "text": [
      "    102/150      11.4G     0.6274     0.3301     0.8884        583        640: 100%|██████████| 14/14 [00:17<00:00,  1.22s/it]\n",
      "                 Class     Images  Instances      Box(P          R      mAP50  mAP50-95): 100%|██████████| 2/2 [00:04<00:00,  2.03s/it]"
     ]
    },
    {
     "name": "stdout",
     "output_type": "stream",
     "text": [
      "                   all         55       2373      0.951      0.942      0.973      0.789\n"
     ]
    },
    {
     "name": "stderr",
     "output_type": "stream",
     "text": [
      "\n"
     ]
    },
    {
     "name": "stdout",
     "output_type": "stream",
     "text": [
      "\n",
      "      Epoch    GPU_mem   box_loss   cls_loss   dfl_loss  Instances       Size\n"
     ]
    },
    {
     "name": "stderr",
     "output_type": "stream",
     "text": [
      "    103/150      11.6G     0.6263     0.3284     0.8757        750        640: 100%|██████████| 14/14 [00:12<00:00,  1.08it/s]\n",
      "                 Class     Images  Instances      Box(P          R      mAP50  mAP50-95): 100%|██████████| 2/2 [00:03<00:00,  1.97s/it]"
     ]
    },
    {
     "name": "stdout",
     "output_type": "stream",
     "text": [
      "                   all         55       2373      0.956      0.941      0.975      0.794\n"
     ]
    },
    {
     "name": "stderr",
     "output_type": "stream",
     "text": [
      "\n"
     ]
    },
    {
     "name": "stdout",
     "output_type": "stream",
     "text": [
      "\n",
      "      Epoch    GPU_mem   box_loss   cls_loss   dfl_loss  Instances       Size\n"
     ]
    },
    {
     "name": "stderr",
     "output_type": "stream",
     "text": [
      "    104/150      11.7G      0.644     0.3445     0.8974        708        640: 100%|██████████| 14/14 [00:27<00:00,  1.93s/it]\n",
      "                 Class     Images  Instances      Box(P          R      mAP50  mAP50-95): 100%|██████████| 2/2 [00:03<00:00,  1.55s/it]"
     ]
    },
    {
     "name": "stdout",
     "output_type": "stream",
     "text": [
      "                   all         55       2373      0.964      0.924      0.971      0.779\n"
     ]
    },
    {
     "name": "stderr",
     "output_type": "stream",
     "text": [
      "\n"
     ]
    },
    {
     "name": "stdout",
     "output_type": "stream",
     "text": [
      "\n",
      "      Epoch    GPU_mem   box_loss   cls_loss   dfl_loss  Instances       Size\n"
     ]
    },
    {
     "name": "stderr",
     "output_type": "stream",
     "text": [
      "    105/150      11.7G     0.6356     0.3346     0.8814        418        640: 100%|██████████| 14/14 [00:19<00:00,  1.37s/it]\n",
      "                 Class     Images  Instances      Box(P          R      mAP50  mAP50-95): 100%|██████████| 2/2 [00:04<00:00,  2.37s/it]"
     ]
    },
    {
     "name": "stdout",
     "output_type": "stream",
     "text": [
      "                   all         55       2373      0.958      0.922       0.97      0.778\n"
     ]
    },
    {
     "name": "stderr",
     "output_type": "stream",
     "text": [
      "\n"
     ]
    },
    {
     "name": "stdout",
     "output_type": "stream",
     "text": [
      "\n",
      "      Epoch    GPU_mem   box_loss   cls_loss   dfl_loss  Instances       Size\n"
     ]
    },
    {
     "name": "stderr",
     "output_type": "stream",
     "text": [
      "    106/150      11.6G       0.62     0.3276     0.8848        453        640: 100%|██████████| 14/14 [00:11<00:00,  1.20it/s]\n",
      "                 Class     Images  Instances      Box(P          R      mAP50  mAP50-95): 100%|██████████| 2/2 [00:02<00:00,  1.17s/it]"
     ]
    },
    {
     "name": "stdout",
     "output_type": "stream",
     "text": [
      "                   all         55       2373      0.966      0.929      0.973      0.788\n"
     ]
    },
    {
     "name": "stderr",
     "output_type": "stream",
     "text": [
      "\n"
     ]
    },
    {
     "name": "stdout",
     "output_type": "stream",
     "text": [
      "\n",
      "      Epoch    GPU_mem   box_loss   cls_loss   dfl_loss  Instances       Size\n"
     ]
    },
    {
     "name": "stderr",
     "output_type": "stream",
     "text": [
      "    107/150      11.5G     0.6229     0.3253     0.8779        601        640: 100%|██████████| 14/14 [00:06<00:00,  2.16it/s]\n",
      "                 Class     Images  Instances      Box(P          R      mAP50  mAP50-95): 100%|██████████| 2/2 [00:02<00:00,  1.38s/it]"
     ]
    },
    {
     "name": "stdout",
     "output_type": "stream",
     "text": [
      "                   all         55       2373      0.953      0.932      0.971      0.783\n"
     ]
    },
    {
     "name": "stderr",
     "output_type": "stream",
     "text": [
      "\n"
     ]
    },
    {
     "name": "stdout",
     "output_type": "stream",
     "text": [
      "\n",
      "      Epoch    GPU_mem   box_loss   cls_loss   dfl_loss  Instances       Size\n"
     ]
    },
    {
     "name": "stderr",
     "output_type": "stream",
     "text": [
      "    108/150      11.6G       0.64     0.3315     0.8792        543        640: 100%|██████████| 14/14 [00:15<00:00,  1.13s/it]\n",
      "                 Class     Images  Instances      Box(P          R      mAP50  mAP50-95): 100%|██████████| 2/2 [00:03<00:00,  1.50s/it]"
     ]
    },
    {
     "name": "stdout",
     "output_type": "stream",
     "text": [
      "                   all         55       2373       0.95      0.936      0.973       0.79\n"
     ]
    },
    {
     "name": "stderr",
     "output_type": "stream",
     "text": [
      "\n"
     ]
    },
    {
     "name": "stdout",
     "output_type": "stream",
     "text": [
      "\n",
      "      Epoch    GPU_mem   box_loss   cls_loss   dfl_loss  Instances       Size\n"
     ]
    },
    {
     "name": "stderr",
     "output_type": "stream",
     "text": [
      "    109/150      11.4G     0.6287     0.3288     0.8913        671        640: 100%|██████████| 14/14 [00:12<00:00,  1.08it/s]\n",
      "                 Class     Images  Instances      Box(P          R      mAP50  mAP50-95): 100%|██████████| 2/2 [00:02<00:00,  1.35s/it]"
     ]
    },
    {
     "name": "stdout",
     "output_type": "stream",
     "text": [
      "                   all         55       2373      0.965      0.935      0.974      0.795\n"
     ]
    },
    {
     "name": "stderr",
     "output_type": "stream",
     "text": [
      "\n"
     ]
    },
    {
     "name": "stdout",
     "output_type": "stream",
     "text": [
      "\n",
      "      Epoch    GPU_mem   box_loss   cls_loss   dfl_loss  Instances       Size\n"
     ]
    },
    {
     "name": "stderr",
     "output_type": "stream",
     "text": [
      "    110/150      11.5G     0.6895     0.3541     0.9016        435        640: 100%|██████████| 14/14 [00:17<00:00,  1.23s/it]\n",
      "                 Class     Images  Instances      Box(P          R      mAP50  mAP50-95): 100%|██████████| 2/2 [00:03<00:00,  1.57s/it]"
     ]
    },
    {
     "name": "stdout",
     "output_type": "stream",
     "text": [
      "                   all         55       2373      0.958      0.941      0.971      0.783\n"
     ]
    },
    {
     "name": "stderr",
     "output_type": "stream",
     "text": [
      "\n"
     ]
    },
    {
     "name": "stdout",
     "output_type": "stream",
     "text": [
      "\n",
      "      Epoch    GPU_mem   box_loss   cls_loss   dfl_loss  Instances       Size\n"
     ]
    },
    {
     "name": "stderr",
     "output_type": "stream",
     "text": [
      "    111/150      11.7G     0.6718     0.3472      0.889        745        640: 100%|██████████| 14/14 [00:30<00:00,  2.21s/it]\n",
      "                 Class     Images  Instances      Box(P          R      mAP50  mAP50-95): 100%|██████████| 2/2 [00:04<00:00,  2.02s/it]"
     ]
    },
    {
     "name": "stdout",
     "output_type": "stream",
     "text": [
      "                   all         55       2373       0.96      0.938      0.974       0.79\n"
     ]
    },
    {
     "name": "stderr",
     "output_type": "stream",
     "text": [
      "\n"
     ]
    },
    {
     "name": "stdout",
     "output_type": "stream",
     "text": [
      "\n",
      "      Epoch    GPU_mem   box_loss   cls_loss   dfl_loss  Instances       Size\n"
     ]
    },
    {
     "name": "stderr",
     "output_type": "stream",
     "text": [
      "    112/150      11.3G     0.6214     0.3235     0.8786        691        640: 100%|██████████| 14/14 [00:17<00:00,  1.22s/it]\n",
      "                 Class     Images  Instances      Box(P          R      mAP50  mAP50-95): 100%|██████████| 2/2 [00:04<00:00,  2.02s/it]"
     ]
    },
    {
     "name": "stdout",
     "output_type": "stream",
     "text": [
      "                   all         55       2373      0.964      0.929      0.973      0.796\n"
     ]
    },
    {
     "name": "stderr",
     "output_type": "stream",
     "text": [
      "\n"
     ]
    },
    {
     "name": "stdout",
     "output_type": "stream",
     "text": [
      "\n",
      "      Epoch    GPU_mem   box_loss   cls_loss   dfl_loss  Instances       Size\n"
     ]
    },
    {
     "name": "stderr",
     "output_type": "stream",
     "text": [
      "    113/150      11.5G     0.5974     0.3136     0.8776        496        640: 100%|██████████| 14/14 [00:15<00:00,  1.12s/it]\n",
      "                 Class     Images  Instances      Box(P          R      mAP50  mAP50-95): 100%|██████████| 2/2 [00:05<00:00,  3.00s/it]"
     ]
    },
    {
     "name": "stdout",
     "output_type": "stream",
     "text": [
      "                   all         55       2373      0.952      0.937      0.972      0.793\n"
     ]
    },
    {
     "name": "stderr",
     "output_type": "stream",
     "text": [
      "\n"
     ]
    },
    {
     "name": "stdout",
     "output_type": "stream",
     "text": [
      "\n",
      "      Epoch    GPU_mem   box_loss   cls_loss   dfl_loss  Instances       Size\n"
     ]
    },
    {
     "name": "stderr",
     "output_type": "stream",
     "text": [
      "    114/150      11.6G     0.6323     0.3295     0.8886        657        640: 100%|██████████| 14/14 [00:23<00:00,  1.69s/it]\n",
      "                 Class     Images  Instances      Box(P          R      mAP50  mAP50-95): 100%|██████████| 2/2 [00:02<00:00,  1.25s/it]"
     ]
    },
    {
     "name": "stdout",
     "output_type": "stream",
     "text": [
      "                   all         55       2373      0.962      0.938      0.973      0.792\n"
     ]
    },
    {
     "name": "stderr",
     "output_type": "stream",
     "text": [
      "\n"
     ]
    },
    {
     "name": "stdout",
     "output_type": "stream",
     "text": [
      "\n",
      "      Epoch    GPU_mem   box_loss   cls_loss   dfl_loss  Instances       Size\n"
     ]
    },
    {
     "name": "stderr",
     "output_type": "stream",
     "text": [
      "    115/150      11.6G     0.6137     0.3155      0.873        608        640: 100%|██████████| 14/14 [00:13<00:00,  1.05it/s]\n",
      "                 Class     Images  Instances      Box(P          R      mAP50  mAP50-95): 100%|██████████| 2/2 [00:02<00:00,  1.19s/it]"
     ]
    },
    {
     "name": "stdout",
     "output_type": "stream",
     "text": [
      "                   all         55       2373      0.962      0.932      0.971      0.787\n"
     ]
    },
    {
     "name": "stderr",
     "output_type": "stream",
     "text": [
      "\n"
     ]
    },
    {
     "name": "stdout",
     "output_type": "stream",
     "text": [
      "\n",
      "      Epoch    GPU_mem   box_loss   cls_loss   dfl_loss  Instances       Size\n"
     ]
    },
    {
     "name": "stderr",
     "output_type": "stream",
     "text": [
      "    116/150      11.6G     0.6126     0.3149     0.8769        526        640: 100%|██████████| 14/14 [00:13<00:00,  1.05it/s]\n",
      "                 Class     Images  Instances      Box(P          R      mAP50  mAP50-95): 100%|██████████| 2/2 [00:02<00:00,  1.26s/it]"
     ]
    },
    {
     "name": "stdout",
     "output_type": "stream",
     "text": [
      "                   all         55       2373      0.961       0.93      0.973      0.796\n"
     ]
    },
    {
     "name": "stderr",
     "output_type": "stream",
     "text": [
      "\n"
     ]
    },
    {
     "name": "stdout",
     "output_type": "stream",
     "text": [
      "\n",
      "      Epoch    GPU_mem   box_loss   cls_loss   dfl_loss  Instances       Size\n"
     ]
    },
    {
     "name": "stderr",
     "output_type": "stream",
     "text": [
      "    117/150      11.5G     0.6222     0.3236     0.8748        635        640: 100%|██████████| 14/14 [00:16<00:00,  1.15s/it]\n",
      "                 Class     Images  Instances      Box(P          R      mAP50  mAP50-95): 100%|██████████| 2/2 [00:02<00:00,  1.24s/it]"
     ]
    },
    {
     "name": "stdout",
     "output_type": "stream",
     "text": [
      "                   all         55       2373       0.97      0.925      0.973      0.794\n"
     ]
    },
    {
     "name": "stderr",
     "output_type": "stream",
     "text": [
      "\n"
     ]
    },
    {
     "name": "stdout",
     "output_type": "stream",
     "text": [
      "\n",
      "      Epoch    GPU_mem   box_loss   cls_loss   dfl_loss  Instances       Size\n"
     ]
    },
    {
     "name": "stderr",
     "output_type": "stream",
     "text": [
      "    118/150      11.3G     0.6248     0.3266     0.8777        687        640: 100%|██████████| 14/14 [00:08<00:00,  1.63it/s]\n",
      "                 Class     Images  Instances      Box(P          R      mAP50  mAP50-95): 100%|██████████| 2/2 [00:02<00:00,  1.15s/it]"
     ]
    },
    {
     "name": "stdout",
     "output_type": "stream",
     "text": [
      "                   all         55       2373      0.961      0.928      0.971      0.793\n"
     ]
    },
    {
     "name": "stderr",
     "output_type": "stream",
     "text": [
      "\n"
     ]
    },
    {
     "name": "stdout",
     "output_type": "stream",
     "text": [
      "\n",
      "      Epoch    GPU_mem   box_loss   cls_loss   dfl_loss  Instances       Size\n"
     ]
    },
    {
     "name": "stderr",
     "output_type": "stream",
     "text": [
      "    119/150      11.6G     0.5975     0.3144     0.8737        585        640: 100%|██████████| 14/14 [00:14<00:00,  1.03s/it]\n",
      "                 Class     Images  Instances      Box(P          R      mAP50  mAP50-95): 100%|██████████| 2/2 [00:02<00:00,  1.20s/it]"
     ]
    },
    {
     "name": "stdout",
     "output_type": "stream",
     "text": [
      "                   all         55       2373      0.961      0.938      0.972      0.798\n"
     ]
    },
    {
     "name": "stderr",
     "output_type": "stream",
     "text": [
      "\n"
     ]
    },
    {
     "name": "stdout",
     "output_type": "stream",
     "text": [
      "\n",
      "      Epoch    GPU_mem   box_loss   cls_loss   dfl_loss  Instances       Size\n"
     ]
    },
    {
     "name": "stderr",
     "output_type": "stream",
     "text": [
      "    120/150      11.4G     0.6246     0.3203     0.8776        596        640: 100%|██████████| 14/14 [00:19<00:00,  1.43s/it]\n",
      "                 Class     Images  Instances      Box(P          R      mAP50  mAP50-95): 100%|██████████| 2/2 [00:02<00:00,  1.11s/it]"
     ]
    },
    {
     "name": "stdout",
     "output_type": "stream",
     "text": [
      "                   all         55       2373      0.963      0.945      0.976        0.8\n"
     ]
    },
    {
     "name": "stderr",
     "output_type": "stream",
     "text": [
      "\n"
     ]
    },
    {
     "name": "stdout",
     "output_type": "stream",
     "text": [
      "\n",
      "      Epoch    GPU_mem   box_loss   cls_loss   dfl_loss  Instances       Size\n"
     ]
    },
    {
     "name": "stderr",
     "output_type": "stream",
     "text": [
      "    121/150      11.7G     0.6476     0.3269      0.888        798        640: 100%|██████████| 14/14 [00:20<00:00,  1.48s/it]\n",
      "                 Class     Images  Instances      Box(P          R      mAP50  mAP50-95): 100%|██████████| 2/2 [00:07<00:00,  3.74s/it]"
     ]
    },
    {
     "name": "stdout",
     "output_type": "stream",
     "text": [
      "                   all         55       2373      0.966      0.935      0.976      0.797\n"
     ]
    },
    {
     "name": "stderr",
     "output_type": "stream",
     "text": [
      "\n"
     ]
    },
    {
     "name": "stdout",
     "output_type": "stream",
     "text": [
      "\n",
      "      Epoch    GPU_mem   box_loss   cls_loss   dfl_loss  Instances       Size\n"
     ]
    },
    {
     "name": "stderr",
     "output_type": "stream",
     "text": [
      "    122/150      11.3G       0.62     0.3201      0.871        413        640: 100%|██████████| 14/14 [00:15<00:00,  1.10s/it]\n",
      "                 Class     Images  Instances      Box(P          R      mAP50  mAP50-95): 100%|██████████| 2/2 [00:03<00:00,  1.62s/it]"
     ]
    },
    {
     "name": "stdout",
     "output_type": "stream",
     "text": [
      "                   all         55       2373      0.961      0.929      0.973       0.79\n"
     ]
    },
    {
     "name": "stderr",
     "output_type": "stream",
     "text": [
      "\n"
     ]
    },
    {
     "name": "stdout",
     "output_type": "stream",
     "text": [
      "\n",
      "      Epoch    GPU_mem   box_loss   cls_loss   dfl_loss  Instances       Size\n"
     ]
    },
    {
     "name": "stderr",
     "output_type": "stream",
     "text": [
      "    123/150      11.5G     0.5989     0.3086     0.8604        624        640: 100%|██████████| 14/14 [00:15<00:00,  1.07s/it]\n",
      "                 Class     Images  Instances      Box(P          R      mAP50  mAP50-95): 100%|██████████| 2/2 [00:03<00:00,  1.53s/it]"
     ]
    },
    {
     "name": "stdout",
     "output_type": "stream",
     "text": [
      "                   all         55       2373       0.96      0.941      0.976      0.796\n"
     ]
    },
    {
     "name": "stderr",
     "output_type": "stream",
     "text": [
      "\n"
     ]
    },
    {
     "name": "stdout",
     "output_type": "stream",
     "text": [
      "\n",
      "      Epoch    GPU_mem   box_loss   cls_loss   dfl_loss  Instances       Size\n"
     ]
    },
    {
     "name": "stderr",
     "output_type": "stream",
     "text": [
      "    124/150      11.8G      0.603     0.3149     0.8836        541        640: 100%|██████████| 14/14 [00:11<00:00,  1.19it/s]\n",
      "                 Class     Images  Instances      Box(P          R      mAP50  mAP50-95): 100%|██████████| 2/2 [00:02<00:00,  1.04s/it]"
     ]
    },
    {
     "name": "stdout",
     "output_type": "stream",
     "text": [
      "                   all         55       2373      0.959      0.947      0.976      0.798\n"
     ]
    },
    {
     "name": "stderr",
     "output_type": "stream",
     "text": [
      "\n"
     ]
    },
    {
     "name": "stdout",
     "output_type": "stream",
     "text": [
      "\n",
      "      Epoch    GPU_mem   box_loss   cls_loss   dfl_loss  Instances       Size\n"
     ]
    },
    {
     "name": "stderr",
     "output_type": "stream",
     "text": [
      "    125/150      11.5G     0.5916      0.307     0.8795        484        640: 100%|██████████| 14/14 [00:10<00:00,  1.36it/s]\n",
      "                 Class     Images  Instances      Box(P          R      mAP50  mAP50-95): 100%|██████████| 2/2 [00:02<00:00,  1.41s/it]"
     ]
    },
    {
     "name": "stdout",
     "output_type": "stream",
     "text": [
      "                   all         55       2373      0.967       0.93      0.973      0.792\n"
     ]
    },
    {
     "name": "stderr",
     "output_type": "stream",
     "text": [
      "\n"
     ]
    },
    {
     "name": "stdout",
     "output_type": "stream",
     "text": [
      "\n",
      "      Epoch    GPU_mem   box_loss   cls_loss   dfl_loss  Instances       Size\n"
     ]
    },
    {
     "name": "stderr",
     "output_type": "stream",
     "text": [
      "    126/150      11.4G     0.6017     0.3084     0.8654        597        640: 100%|██████████| 14/14 [00:06<00:00,  2.08it/s]\n",
      "                 Class     Images  Instances      Box(P          R      mAP50  mAP50-95): 100%|██████████| 2/2 [00:02<00:00,  1.02s/it]"
     ]
    },
    {
     "name": "stdout",
     "output_type": "stream",
     "text": [
      "                   all         55       2373      0.954      0.936      0.972      0.794\n"
     ]
    },
    {
     "name": "stderr",
     "output_type": "stream",
     "text": [
      "\n"
     ]
    },
    {
     "name": "stdout",
     "output_type": "stream",
     "text": [
      "\n",
      "      Epoch    GPU_mem   box_loss   cls_loss   dfl_loss  Instances       Size\n"
     ]
    },
    {
     "name": "stderr",
     "output_type": "stream",
     "text": [
      "    127/150      11.5G     0.6233     0.3142     0.8783        716        640: 100%|██████████| 14/14 [00:09<00:00,  1.45it/s]\n",
      "                 Class     Images  Instances      Box(P          R      mAP50  mAP50-95): 100%|██████████| 2/2 [00:02<00:00,  1.23s/it]"
     ]
    },
    {
     "name": "stdout",
     "output_type": "stream",
     "text": [
      "                   all         55       2373      0.971      0.932      0.975      0.804\n"
     ]
    },
    {
     "name": "stderr",
     "output_type": "stream",
     "text": [
      "\n"
     ]
    },
    {
     "name": "stdout",
     "output_type": "stream",
     "text": [
      "\n",
      "      Epoch    GPU_mem   box_loss   cls_loss   dfl_loss  Instances       Size\n"
     ]
    },
    {
     "name": "stderr",
     "output_type": "stream",
     "text": [
      "    128/150      11.6G     0.6009     0.3128     0.8823        574        640: 100%|██████████| 14/14 [00:14<00:00,  1.07s/it]\n",
      "                 Class     Images  Instances      Box(P          R      mAP50  mAP50-95): 100%|██████████| 2/2 [00:02<00:00,  1.11s/it]"
     ]
    },
    {
     "name": "stdout",
     "output_type": "stream",
     "text": [
      "                   all         55       2373      0.967      0.939      0.977      0.802\n"
     ]
    },
    {
     "name": "stderr",
     "output_type": "stream",
     "text": [
      "\n"
     ]
    },
    {
     "name": "stdout",
     "output_type": "stream",
     "text": [
      "\n",
      "      Epoch    GPU_mem   box_loss   cls_loss   dfl_loss  Instances       Size\n"
     ]
    },
    {
     "name": "stderr",
     "output_type": "stream",
     "text": [
      "    129/150      11.7G     0.6133     0.3111     0.8665        559        640: 100%|██████████| 14/14 [00:16<00:00,  1.16s/it]\n",
      "                 Class     Images  Instances      Box(P          R      mAP50  mAP50-95): 100%|██████████| 2/2 [00:03<00:00,  1.79s/it]"
     ]
    },
    {
     "name": "stdout",
     "output_type": "stream",
     "text": [
      "                   all         55       2373      0.965      0.941      0.976      0.803\n"
     ]
    },
    {
     "name": "stderr",
     "output_type": "stream",
     "text": [
      "\n"
     ]
    },
    {
     "name": "stdout",
     "output_type": "stream",
     "text": [
      "\n",
      "      Epoch    GPU_mem   box_loss   cls_loss   dfl_loss  Instances       Size\n"
     ]
    },
    {
     "name": "stderr",
     "output_type": "stream",
     "text": [
      "    130/150      11.4G     0.5746      0.298      0.859        569        640: 100%|██████████| 14/14 [00:17<00:00,  1.24s/it]\n",
      "                 Class     Images  Instances      Box(P          R      mAP50  mAP50-95): 100%|██████████| 2/2 [00:02<00:00,  1.35s/it]"
     ]
    },
    {
     "name": "stdout",
     "output_type": "stream",
     "text": [
      "                   all         55       2373      0.964      0.939      0.975      0.802\n"
     ]
    },
    {
     "name": "stderr",
     "output_type": "stream",
     "text": [
      "\n"
     ]
    },
    {
     "name": "stdout",
     "output_type": "stream",
     "text": [
      "\n",
      "      Epoch    GPU_mem   box_loss   cls_loss   dfl_loss  Instances       Size\n"
     ]
    },
    {
     "name": "stderr",
     "output_type": "stream",
     "text": [
      "    131/150      11.8G     0.6349      0.323     0.8808        497        640: 100%|██████████| 14/14 [00:17<00:00,  1.27s/it]\n",
      "                 Class     Images  Instances      Box(P          R      mAP50  mAP50-95): 100%|██████████| 2/2 [00:05<00:00,  2.67s/it]"
     ]
    },
    {
     "name": "stdout",
     "output_type": "stream",
     "text": [
      "                   all         55       2373       0.96      0.945      0.974      0.803\n"
     ]
    },
    {
     "name": "stderr",
     "output_type": "stream",
     "text": [
      "\n"
     ]
    },
    {
     "name": "stdout",
     "output_type": "stream",
     "text": [
      "\n",
      "      Epoch    GPU_mem   box_loss   cls_loss   dfl_loss  Instances       Size\n"
     ]
    },
    {
     "name": "stderr",
     "output_type": "stream",
     "text": [
      "    132/150      11.7G     0.6238     0.3155       0.88        662        640: 100%|██████████| 14/14 [00:14<00:00,  1.05s/it]\n",
      "                 Class     Images  Instances      Box(P          R      mAP50  mAP50-95): 100%|██████████| 2/2 [00:04<00:00,  2.32s/it]"
     ]
    },
    {
     "name": "stdout",
     "output_type": "stream",
     "text": [
      "                   all         55       2373       0.96      0.938      0.975      0.793\n"
     ]
    },
    {
     "name": "stderr",
     "output_type": "stream",
     "text": [
      "\n"
     ]
    },
    {
     "name": "stdout",
     "output_type": "stream",
     "text": [
      "\n",
      "      Epoch    GPU_mem   box_loss   cls_loss   dfl_loss  Instances       Size\n"
     ]
    },
    {
     "name": "stderr",
     "output_type": "stream",
     "text": [
      "    133/150      11.6G     0.6277     0.3167     0.8806        490        640: 100%|██████████| 14/14 [00:25<00:00,  1.83s/it]\n",
      "                 Class     Images  Instances      Box(P          R      mAP50  mAP50-95): 100%|██████████| 2/2 [00:08<00:00,  4.03s/it]"
     ]
    },
    {
     "name": "stdout",
     "output_type": "stream",
     "text": [
      "                   all         55       2373      0.961      0.936      0.973      0.792\n"
     ]
    },
    {
     "name": "stderr",
     "output_type": "stream",
     "text": [
      "\n"
     ]
    },
    {
     "name": "stdout",
     "output_type": "stream",
     "text": [
      "\n",
      "      Epoch    GPU_mem   box_loss   cls_loss   dfl_loss  Instances       Size\n"
     ]
    },
    {
     "name": "stderr",
     "output_type": "stream",
     "text": [
      "    134/150      11.8G     0.6132     0.3092     0.8731        574        640: 100%|██████████| 14/14 [00:18<00:00,  1.33s/it]\n",
      "                 Class     Images  Instances      Box(P          R      mAP50  mAP50-95): 100%|██████████| 2/2 [00:05<00:00,  2.76s/it]"
     ]
    },
    {
     "name": "stdout",
     "output_type": "stream",
     "text": [
      "                   all         55       2373       0.96       0.94      0.974      0.797\n"
     ]
    },
    {
     "name": "stderr",
     "output_type": "stream",
     "text": [
      "\n"
     ]
    },
    {
     "name": "stdout",
     "output_type": "stream",
     "text": [
      "\n",
      "      Epoch    GPU_mem   box_loss   cls_loss   dfl_loss  Instances       Size\n"
     ]
    },
    {
     "name": "stderr",
     "output_type": "stream",
     "text": [
      "    135/150      11.6G     0.6089     0.3067     0.8699        609        640: 100%|██████████| 14/14 [00:21<00:00,  1.51s/it]\n",
      "                 Class     Images  Instances      Box(P          R      mAP50  mAP50-95): 100%|██████████| 2/2 [00:02<00:00,  1.44s/it]"
     ]
    },
    {
     "name": "stdout",
     "output_type": "stream",
     "text": [
      "                   all         55       2373      0.964       0.94      0.975      0.801\n"
     ]
    },
    {
     "name": "stderr",
     "output_type": "stream",
     "text": [
      "\n"
     ]
    },
    {
     "name": "stdout",
     "output_type": "stream",
     "text": [
      "\n",
      "      Epoch    GPU_mem   box_loss   cls_loss   dfl_loss  Instances       Size\n"
     ]
    },
    {
     "name": "stderr",
     "output_type": "stream",
     "text": [
      "    136/150      11.5G     0.5698      0.295     0.8744        557        640: 100%|██████████| 14/14 [00:14<00:00,  1.07s/it]\n",
      "                 Class     Images  Instances      Box(P          R      mAP50  mAP50-95): 100%|██████████| 2/2 [00:02<00:00,  1.48s/it]"
     ]
    },
    {
     "name": "stdout",
     "output_type": "stream",
     "text": [
      "                   all         55       2373      0.961      0.944      0.976      0.803\n"
     ]
    },
    {
     "name": "stderr",
     "output_type": "stream",
     "text": [
      "\n"
     ]
    },
    {
     "name": "stdout",
     "output_type": "stream",
     "text": [
      "\n",
      "      Epoch    GPU_mem   box_loss   cls_loss   dfl_loss  Instances       Size\n"
     ]
    },
    {
     "name": "stderr",
     "output_type": "stream",
     "text": [
      "    137/150      11.4G     0.5872     0.2997     0.8626        614        640: 100%|██████████| 14/14 [00:13<00:00,  1.05it/s]\n",
      "                 Class     Images  Instances      Box(P          R      mAP50  mAP50-95): 100%|██████████| 2/2 [00:04<00:00,  2.04s/it]"
     ]
    },
    {
     "name": "stdout",
     "output_type": "stream",
     "text": [
      "                   all         55       2373      0.965      0.941      0.976      0.805\n"
     ]
    },
    {
     "name": "stderr",
     "output_type": "stream",
     "text": [
      "\n"
     ]
    },
    {
     "name": "stdout",
     "output_type": "stream",
     "text": [
      "\n",
      "      Epoch    GPU_mem   box_loss   cls_loss   dfl_loss  Instances       Size\n"
     ]
    },
    {
     "name": "stderr",
     "output_type": "stream",
     "text": [
      "    138/150      11.4G     0.6077     0.3052     0.8703        666        640: 100%|██████████| 14/14 [00:19<00:00,  1.37s/it]\n",
      "                 Class     Images  Instances      Box(P          R      mAP50  mAP50-95): 100%|██████████| 2/2 [00:05<00:00,  2.93s/it]"
     ]
    },
    {
     "name": "stdout",
     "output_type": "stream",
     "text": [
      "                   all         55       2373      0.967      0.938      0.976      0.805\n"
     ]
    },
    {
     "name": "stderr",
     "output_type": "stream",
     "text": [
      "\n"
     ]
    },
    {
     "name": "stdout",
     "output_type": "stream",
     "text": [
      "\n",
      "      Epoch    GPU_mem   box_loss   cls_loss   dfl_loss  Instances       Size\n"
     ]
    },
    {
     "name": "stderr",
     "output_type": "stream",
     "text": [
      "    139/150      11.7G     0.5884     0.3026     0.8669        747        640: 100%|██████████| 14/14 [00:22<00:00,  1.57s/it]\n",
      "                 Class     Images  Instances      Box(P          R      mAP50  mAP50-95): 100%|██████████| 2/2 [00:08<00:00,  4.40s/it]"
     ]
    },
    {
     "name": "stdout",
     "output_type": "stream",
     "text": [
      "                   all         55       2373       0.97      0.937      0.976      0.803\n"
     ]
    },
    {
     "name": "stderr",
     "output_type": "stream",
     "text": [
      "\n"
     ]
    },
    {
     "name": "stdout",
     "output_type": "stream",
     "text": [
      "\n",
      "      Epoch    GPU_mem   box_loss   cls_loss   dfl_loss  Instances       Size\n"
     ]
    },
    {
     "name": "stderr",
     "output_type": "stream",
     "text": [
      "    140/150      11.6G     0.6215     0.3134     0.8771        737        640: 100%|██████████| 14/14 [00:20<00:00,  1.43s/it]\n",
      "                 Class     Images  Instances      Box(P          R      mAP50  mAP50-95): 100%|██████████| 2/2 [00:08<00:00,  4.14s/it]"
     ]
    },
    {
     "name": "stdout",
     "output_type": "stream",
     "text": [
      "                   all         55       2373      0.971      0.934      0.975      0.799\n"
     ]
    },
    {
     "name": "stderr",
     "output_type": "stream",
     "text": [
      "\n"
     ]
    },
    {
     "name": "stdout",
     "output_type": "stream",
     "text": [
      "Closing dataloader mosaic\n",
      "\u001b[34m\u001b[1malbumentations: \u001b[0mBlur(p=0.01, blur_limit=(3, 7)), MedianBlur(p=0.01, blur_limit=(3, 7)), ToGray(p=0.01, num_output_channels=3, method='weighted_average'), CLAHE(p=0.01, clip_limit=(1.0, 4.0), tile_grid_size=(8, 8))\n",
      "\n",
      "      Epoch    GPU_mem   box_loss   cls_loss   dfl_loss  Instances       Size\n"
     ]
    },
    {
     "name": "stderr",
     "output_type": "stream",
     "text": [
      "    141/150      11.1G     0.5517     0.2874     0.8443        343        640: 100%|██████████| 14/14 [00:05<00:00,  2.73it/s]\n",
      "                 Class     Images  Instances      Box(P          R      mAP50  mAP50-95): 100%|██████████| 2/2 [00:01<00:00,  1.03it/s]"
     ]
    },
    {
     "name": "stdout",
     "output_type": "stream",
     "text": [
      "                   all         55       2373      0.966      0.934      0.974      0.796\n"
     ]
    },
    {
     "name": "stderr",
     "output_type": "stream",
     "text": [
      "\n"
     ]
    },
    {
     "name": "stdout",
     "output_type": "stream",
     "text": [
      "\n",
      "      Epoch    GPU_mem   box_loss   cls_loss   dfl_loss  Instances       Size\n"
     ]
    },
    {
     "name": "stderr",
     "output_type": "stream",
     "text": [
      "    142/150      11.1G     0.5808     0.2987     0.8758        351        640: 100%|██████████| 14/14 [00:04<00:00,  3.28it/s]\n",
      "                 Class     Images  Instances      Box(P          R      mAP50  mAP50-95): 100%|██████████| 2/2 [00:01<00:00,  1.02it/s]"
     ]
    },
    {
     "name": "stdout",
     "output_type": "stream",
     "text": [
      "                   all         55       2373      0.967      0.931      0.973      0.795\n"
     ]
    },
    {
     "name": "stderr",
     "output_type": "stream",
     "text": [
      "\n"
     ]
    },
    {
     "name": "stdout",
     "output_type": "stream",
     "text": [
      "\n",
      "      Epoch    GPU_mem   box_loss   cls_loss   dfl_loss  Instances       Size\n"
     ]
    },
    {
     "name": "stderr",
     "output_type": "stream",
     "text": [
      "    143/150        11G     0.5473     0.2806     0.8642        380        640: 100%|██████████| 14/14 [00:03<00:00,  3.67it/s]\n",
      "                 Class     Images  Instances      Box(P          R      mAP50  mAP50-95): 100%|██████████| 2/2 [00:01<00:00,  1.56it/s]"
     ]
    },
    {
     "name": "stdout",
     "output_type": "stream",
     "text": [
      "                   all         55       2373      0.968      0.931      0.974      0.798\n"
     ]
    },
    {
     "name": "stderr",
     "output_type": "stream",
     "text": [
      "\n"
     ]
    },
    {
     "name": "stdout",
     "output_type": "stream",
     "text": [
      "\n",
      "      Epoch    GPU_mem   box_loss   cls_loss   dfl_loss  Instances       Size\n"
     ]
    },
    {
     "name": "stderr",
     "output_type": "stream",
     "text": [
      "    144/150      11.1G     0.5404     0.2768     0.8476        379        640: 100%|██████████| 14/14 [00:03<00:00,  3.57it/s]\n",
      "                 Class     Images  Instances      Box(P          R      mAP50  mAP50-95): 100%|██████████| 2/2 [00:01<00:00,  1.50it/s]"
     ]
    },
    {
     "name": "stdout",
     "output_type": "stream",
     "text": [
      "                   all         55       2373      0.967      0.936      0.974        0.8\n"
     ]
    },
    {
     "name": "stderr",
     "output_type": "stream",
     "text": [
      "\n"
     ]
    },
    {
     "name": "stdout",
     "output_type": "stream",
     "text": [
      "\n",
      "      Epoch    GPU_mem   box_loss   cls_loss   dfl_loss  Instances       Size\n"
     ]
    },
    {
     "name": "stderr",
     "output_type": "stream",
     "text": [
      "    145/150        11G     0.6002     0.2963     0.8765        401        640: 100%|██████████| 14/14 [00:03<00:00,  3.69it/s]\n",
      "                 Class     Images  Instances      Box(P          R      mAP50  mAP50-95): 100%|██████████| 2/2 [00:01<00:00,  1.62it/s]"
     ]
    },
    {
     "name": "stdout",
     "output_type": "stream",
     "text": [
      "                   all         55       2373      0.965      0.937      0.975      0.799\n"
     ]
    },
    {
     "name": "stderr",
     "output_type": "stream",
     "text": [
      "\n"
     ]
    },
    {
     "name": "stdout",
     "output_type": "stream",
     "text": [
      "\n",
      "      Epoch    GPU_mem   box_loss   cls_loss   dfl_loss  Instances       Size\n"
     ]
    },
    {
     "name": "stderr",
     "output_type": "stream",
     "text": [
      "    146/150      11.1G     0.5395     0.2745     0.8451        325        640: 100%|██████████| 14/14 [00:03<00:00,  3.60it/s]\n",
      "                 Class     Images  Instances      Box(P          R      mAP50  mAP50-95): 100%|██████████| 2/2 [00:01<00:00,  1.45it/s]"
     ]
    },
    {
     "name": "stdout",
     "output_type": "stream",
     "text": [
      "                   all         55       2373      0.966      0.936      0.976      0.802\n"
     ]
    },
    {
     "name": "stderr",
     "output_type": "stream",
     "text": [
      "\n"
     ]
    },
    {
     "name": "stdout",
     "output_type": "stream",
     "text": [
      "\n",
      "      Epoch    GPU_mem   box_loss   cls_loss   dfl_loss  Instances       Size\n"
     ]
    },
    {
     "name": "stderr",
     "output_type": "stream",
     "text": [
      "    147/150        11G     0.5263     0.2659      0.846        372        640: 100%|██████████| 14/14 [00:03<00:00,  3.66it/s]\n",
      "                 Class     Images  Instances      Box(P          R      mAP50  mAP50-95): 100%|██████████| 2/2 [00:01<00:00,  1.49it/s]"
     ]
    },
    {
     "name": "stdout",
     "output_type": "stream",
     "text": [
      "                   all         55       2373      0.964      0.941      0.975      0.801\n"
     ]
    },
    {
     "name": "stderr",
     "output_type": "stream",
     "text": [
      "\n"
     ]
    },
    {
     "name": "stdout",
     "output_type": "stream",
     "text": [
      "\n",
      "      Epoch    GPU_mem   box_loss   cls_loss   dfl_loss  Instances       Size\n"
     ]
    },
    {
     "name": "stderr",
     "output_type": "stream",
     "text": [
      "    148/150      11.1G     0.5253     0.2676     0.8434        378        640: 100%|██████████| 14/14 [00:05<00:00,  2.39it/s]\n",
      "                 Class     Images  Instances      Box(P          R      mAP50  mAP50-95): 100%|██████████| 2/2 [00:01<00:00,  1.49it/s]"
     ]
    },
    {
     "name": "stdout",
     "output_type": "stream",
     "text": [
      "                   all         55       2373      0.964      0.941      0.976      0.803\n"
     ]
    },
    {
     "name": "stderr",
     "output_type": "stream",
     "text": [
      "\n"
     ]
    },
    {
     "name": "stdout",
     "output_type": "stream",
     "text": [
      "\n",
      "      Epoch    GPU_mem   box_loss   cls_loss   dfl_loss  Instances       Size\n"
     ]
    },
    {
     "name": "stderr",
     "output_type": "stream",
     "text": [
      "    149/150        11G     0.5403     0.2744     0.8481        389        640: 100%|██████████| 14/14 [00:03<00:00,  3.64it/s]\n",
      "                 Class     Images  Instances      Box(P          R      mAP50  mAP50-95): 100%|██████████| 2/2 [00:01<00:00,  1.51it/s]"
     ]
    },
    {
     "name": "stdout",
     "output_type": "stream",
     "text": [
      "                   all         55       2373      0.962      0.941      0.976      0.805\n"
     ]
    },
    {
     "name": "stderr",
     "output_type": "stream",
     "text": [
      "\n"
     ]
    },
    {
     "name": "stdout",
     "output_type": "stream",
     "text": [
      "\n",
      "      Epoch    GPU_mem   box_loss   cls_loss   dfl_loss  Instances       Size\n"
     ]
    },
    {
     "name": "stderr",
     "output_type": "stream",
     "text": [
      "    150/150      11.1G     0.5541     0.2809     0.8542        340        640: 100%|██████████| 14/14 [00:03<00:00,  3.62it/s]\n",
      "                 Class     Images  Instances      Box(P          R      mAP50  mAP50-95): 100%|██████████| 2/2 [00:01<00:00,  1.46it/s]"
     ]
    },
    {
     "name": "stdout",
     "output_type": "stream",
     "text": [
      "                   all         55       2373      0.964      0.942      0.977      0.805\n"
     ]
    },
    {
     "name": "stderr",
     "output_type": "stream",
     "text": [
      "\n"
     ]
    },
    {
     "name": "stdout",
     "output_type": "stream",
     "text": [
      "\n",
      "150 epochs completed in 0.805 hours.\n",
      "Optimizer stripped from runs\\detect\\train25\\weights\\last.pt, 51.2MB\n",
      "Optimizer stripped from runs\\detect\\train25\\weights\\best.pt, 51.2MB\n",
      "\n",
      "Validating runs\\detect\\train25\\weights\\best.pt...\n",
      "Ultralytics 8.3.61  Python-3.12.4 torch-2.5.1+cu124 CUDA:0 (NVIDIA GeForce RTX 3080, 12288MiB)\n",
      "YOLO11l summary (fused): 464 layers, 25,280,083 parameters, 0 gradients, 86.6 GFLOPs\n"
     ]
    },
    {
     "name": "stderr",
     "output_type": "stream",
     "text": [
      "                 Class     Images  Instances      Box(P          R      mAP50  mAP50-95): 100%|██████████| 2/2 [00:01<00:00,  1.11it/s]\n"
     ]
    },
    {
     "name": "stdout",
     "output_type": "stream",
     "text": [
      "                   all         55       2373       0.94      0.931      0.974      0.792\n",
      "Speed: 0.1ms preprocess, 21.7ms inference, 0.0ms loss, 0.7ms postprocess per image\n",
      "Results saved to \u001b[1mruns\\detect\\train25\u001b[0m\n"
     ]
    }
   ],
   "source": [
    "from ultralytics import YOLO\n",
    "import torch\n",
    "\n",
    "device = torch.device(\"cuda\") if torch.cuda.is_available() else torch.device(\"cpu\")\n",
    "print(\"Device: \", device)\n",
    "\n",
    "# load pretrained model\n",
    "#https://docs.ultralytics.com/de/modes/train/#train-settings\n",
    "#https://pytorch.org/vision/master/models/faster_rcnn.html\n",
    "model = YOLO(\"yolo11l.pt\") #x probieren\n",
    "#1280 model Bryan, inference Zeit nehmen\n",
    "# Train the model with your data\n",
    "results = model.train(data=\"sugarbeet_dataset.yaml\", epochs=150, imgsz=640, device=0, augment=True) # augment=False, img size anpassen, dropout, val = True (default), pretrained = True (default)"
   ]
  },
  {
   "cell_type": "markdown",
   "metadata": {},
   "source": [
    "### 4. Detect sugarbeets with best model\n",
    "\n",
    "- replace source with image or directory of images\n",
    "- model saves copy of pictures with bounding boxes in runs\\detect\\predict\n",
    "- prints predected bounding boxes\n",
    "- plot image with sugarbeet predictions"
   ]
  },
  {
   "cell_type": "code",
   "execution_count": null,
   "metadata": {},
   "outputs": [
    {
     "data": {
      "text/plain": [
       "<Figure size 1200x800 with 1 Axes>"
      ]
     },
     "metadata": {},
     "output_type": "display_data"
    },
    {
     "data": {
      "text/plain": [
       "<Figure size 1200x800 with 1 Axes>"
      ]
     },
     "metadata": {},
     "output_type": "display_data"
    },
    {
     "data": {
      "text/plain": [
       "<Figure size 1200x800 with 1 Axes>"
      ]
     },
     "metadata": {},
     "output_type": "display_data"
    },
    {
     "data": {
      "text/plain": [
       "<Figure size 1200x800 with 1 Axes>"
      ]
     },
     "metadata": {},
     "output_type": "display_data"
    },
    {
     "data": {
      "text/plain": [
       "<Figure size 1200x800 with 1 Axes>"
      ]
     },
     "metadata": {},
     "output_type": "display_data"
    },
    {
     "data": {
      "text/plain": [
       "<Figure size 1200x800 with 1 Axes>"
      ]
     },
     "metadata": {},
     "output_type": "display_data"
    },
    {
     "data": {
      "text/plain": [
       "<Figure size 1200x800 with 1 Axes>"
      ]
     },
     "metadata": {},
     "output_type": "display_data"
    },
    {
     "data": {
      "text/plain": [
       "<Figure size 1200x800 with 1 Axes>"
      ]
     },
     "metadata": {},
     "output_type": "display_data"
    },
    {
     "data": {
      "text/plain": [
       "<Figure size 1200x800 with 1 Axes>"
      ]
     },
     "metadata": {},
     "output_type": "display_data"
    },
    {
     "data": {
      "text/plain": [
       "<Figure size 1200x800 with 1 Axes>"
      ]
     },
     "metadata": {},
     "output_type": "display_data"
    },
    {
     "data": {
      "text/plain": [
       "<Figure size 1200x800 with 1 Axes>"
      ]
     },
     "metadata": {},
     "output_type": "display_data"
    },
    {
     "data": {
      "text/plain": [
       "<Figure size 1200x800 with 1 Axes>"
      ]
     },
     "metadata": {},
     "output_type": "display_data"
    },
    {
     "data": {
      "text/plain": [
       "<Figure size 1200x800 with 1 Axes>"
      ]
     },
     "metadata": {},
     "output_type": "display_data"
    },
    {
     "data": {
      "text/plain": [
       "<Figure size 1200x800 with 1 Axes>"
      ]
     },
     "metadata": {},
     "output_type": "display_data"
    },
    {
     "data": {
      "text/plain": [
       "<Figure size 1200x800 with 1 Axes>"
      ]
     },
     "metadata": {},
     "output_type": "display_data"
    },
    {
     "data": {
      "text/plain": [
       "<Figure size 1200x800 with 1 Axes>"
      ]
     },
     "metadata": {},
     "output_type": "display_data"
    },
    {
     "data": {
      "text/plain": [
       "<Figure size 1200x800 with 1 Axes>"
      ]
     },
     "metadata": {},
     "output_type": "display_data"
    },
    {
     "data": {
      "text/plain": [
       "<Figure size 1200x800 with 1 Axes>"
      ]
     },
     "metadata": {},
     "output_type": "display_data"
    },
    {
     "data": {
      "text/plain": [
       "<Figure size 1200x800 with 1 Axes>"
      ]
     },
     "metadata": {},
     "output_type": "display_data"
    },
    {
     "data": {
      "text/plain": [
       "<Figure size 1200x800 with 1 Axes>"
      ]
     },
     "metadata": {},
     "output_type": "display_data"
    },
    {
     "data": {
      "text/plain": [
       "<Figure size 1200x800 with 1 Axes>"
      ]
     },
     "metadata": {},
     "output_type": "display_data"
    },
    {
     "data": {
      "text/plain": [
       "<Figure size 1200x800 with 1 Axes>"
      ]
     },
     "metadata": {},
     "output_type": "display_data"
    },
    {
     "data": {
      "text/plain": [
       "<Figure size 1200x800 with 1 Axes>"
      ]
     },
     "metadata": {},
     "output_type": "display_data"
    },
    {
     "data": {
      "text/plain": [
       "<Figure size 1200x800 with 1 Axes>"
      ]
     },
     "metadata": {},
     "output_type": "display_data"
    },
    {
     "data": {
      "text/plain": [
       "<Figure size 1200x800 with 1 Axes>"
      ]
     },
     "metadata": {},
     "output_type": "display_data"
    },
    {
     "data": {
      "text/plain": [
       "<Figure size 1200x800 with 1 Axes>"
      ]
     },
     "metadata": {},
     "output_type": "display_data"
    },
    {
     "data": {
      "text/plain": [
       "<Figure size 1200x800 with 1 Axes>"
      ]
     },
     "metadata": {},
     "output_type": "display_data"
    },
    {
     "data": {
      "text/plain": [
       "<Figure size 1200x800 with 1 Axes>"
      ]
     },
     "metadata": {},
     "output_type": "display_data"
    }
   ],
   "source": [
    "from ultralytics import YOLO\n",
    "import matplotlib.pyplot as plt\n",
    "import matplotlib.image as mpimg\n",
    "\n",
    "# Load the trained model\n",
    "model = YOLO(\"runs/detect/train22/weights/best.pt\")\n",
    "img_path = \"C:/Users/Philip/Documents/Fendt_KI_Challenge/Test/images\"\n",
    "\n",
    "results = model.predict(source=\"C:/Users/Philip/Documents/Fendt_KI_Challenge/Test/images/sugarbeet_bbch12_000138.png\", save=False, imgsz=640)\n",
    "\n",
    "# Access predictions\n",
    "for result in results:\n",
    "    boxes = result.boxes.xyxy.cpu().numpy()  # all Bounding-Box-coordinates\n",
    "    classes = result.boxes.cls.cpu().numpy()  # class-IDs\n",
    "    sugarbeet_boxes = boxes[classes == 0] # all bounding boxes of sugarbeets\n",
    "    print(\"Sugarbeet Boxes:\", sugarbeet_boxes)\n",
    "\n",
    "# plot image with predicted boundingboxes\n",
    "image = mpimg.imread('runs/detect/predict6/sugarbeet_bbch12_000138.jpg')\n",
    "plt.imshow(image)\n",
    "plt.axis('off')\n",
    "plt.show()\n"
   ]
  },
  {
   "cell_type": "code",
   "execution_count": null,
   "metadata": {},
   "outputs": [],
   "source": []
  }
 ],
 "metadata": {
  "kernelspec": {
   "display_name": "base",
   "language": "python",
   "name": "python3"
  },
  "language_info": {
   "codemirror_mode": {
    "name": "ipython",
    "version": 3
   },
   "file_extension": ".py",
   "mimetype": "text/x-python",
   "name": "python",
   "nbconvert_exporter": "python",
   "pygments_lexer": "ipython3",
   "version": "3.12.4"
  }
 },
 "nbformat": 4,
 "nbformat_minor": 2
}
